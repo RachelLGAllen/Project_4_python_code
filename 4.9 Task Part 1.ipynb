{
 "cells": [
  {
   "cell_type": "markdown",
   "id": "4756852e",
   "metadata": {},
   "source": [
    "## 4.9 Intro to Data Visualization"
   ]
  },
  {
   "cell_type": "markdown",
   "id": "7bfde463",
   "metadata": {},
   "source": [
    "### This script contains the following points:\n",
    "\n",
    "#### 1. Create data to experiment on\n",
    "#### 2. Clean data\n",
    "#### 3. Check and export data\n"
   ]
  },
  {
   "cell_type": "code",
   "execution_count": 1,
   "id": "c99e84fa",
   "metadata": {},
   "outputs": [],
   "source": [
    "#import libraries\n",
    "import pandas as pd\n",
    "import numpy as np\n",
    "import os"
   ]
  },
  {
   "cell_type": "code",
   "execution_count": 2,
   "id": "6e4045d8",
   "metadata": {},
   "outputs": [],
   "source": [
    "#import customer.csv\n",
    "path = r'/Users/rachelallen/CareerFoundry Achievement 4/08-2022 Instacart Basket Analysis'"
   ]
  },
  {
   "cell_type": "code",
   "execution_count": 3,
   "id": "8c770d0b",
   "metadata": {},
   "outputs": [],
   "source": [
    "customer = pd.read_csv(os.path.join(path, '02 Data', 'Original Data', 'customers.csv'))"
   ]
  },
  {
   "cell_type": "code",
   "execution_count": 5,
   "id": "4b31b8db",
   "metadata": {},
   "outputs": [
    {
     "data": {
      "text/html": [
       "<div>\n",
       "<style scoped>\n",
       "    .dataframe tbody tr th:only-of-type {\n",
       "        vertical-align: middle;\n",
       "    }\n",
       "\n",
       "    .dataframe tbody tr th {\n",
       "        vertical-align: top;\n",
       "    }\n",
       "\n",
       "    .dataframe thead th {\n",
       "        text-align: right;\n",
       "    }\n",
       "</style>\n",
       "<table border=\"1\" class=\"dataframe\">\n",
       "  <thead>\n",
       "    <tr style=\"text-align: right;\">\n",
       "      <th></th>\n",
       "      <th>user_id</th>\n",
       "      <th>First Name</th>\n",
       "      <th>Surnam</th>\n",
       "      <th>Gender</th>\n",
       "      <th>STATE</th>\n",
       "      <th>Age</th>\n",
       "      <th>date_joined</th>\n",
       "      <th>n_dependants</th>\n",
       "      <th>fam_status</th>\n",
       "      <th>income</th>\n",
       "    </tr>\n",
       "  </thead>\n",
       "  <tbody>\n",
       "    <tr>\n",
       "      <th>0</th>\n",
       "      <td>26711</td>\n",
       "      <td>Deborah</td>\n",
       "      <td>Esquivel</td>\n",
       "      <td>Female</td>\n",
       "      <td>Missouri</td>\n",
       "      <td>48</td>\n",
       "      <td>1/1/2017</td>\n",
       "      <td>3</td>\n",
       "      <td>married</td>\n",
       "      <td>165665</td>\n",
       "    </tr>\n",
       "    <tr>\n",
       "      <th>1</th>\n",
       "      <td>33890</td>\n",
       "      <td>Patricia</td>\n",
       "      <td>Hart</td>\n",
       "      <td>Female</td>\n",
       "      <td>New Mexico</td>\n",
       "      <td>36</td>\n",
       "      <td>1/1/2017</td>\n",
       "      <td>0</td>\n",
       "      <td>single</td>\n",
       "      <td>59285</td>\n",
       "    </tr>\n",
       "    <tr>\n",
       "      <th>2</th>\n",
       "      <td>65803</td>\n",
       "      <td>Kenneth</td>\n",
       "      <td>Farley</td>\n",
       "      <td>Male</td>\n",
       "      <td>Idaho</td>\n",
       "      <td>35</td>\n",
       "      <td>1/1/2017</td>\n",
       "      <td>2</td>\n",
       "      <td>married</td>\n",
       "      <td>99568</td>\n",
       "    </tr>\n",
       "    <tr>\n",
       "      <th>3</th>\n",
       "      <td>125935</td>\n",
       "      <td>Michelle</td>\n",
       "      <td>Hicks</td>\n",
       "      <td>Female</td>\n",
       "      <td>Iowa</td>\n",
       "      <td>40</td>\n",
       "      <td>1/1/2017</td>\n",
       "      <td>0</td>\n",
       "      <td>single</td>\n",
       "      <td>42049</td>\n",
       "    </tr>\n",
       "    <tr>\n",
       "      <th>4</th>\n",
       "      <td>130797</td>\n",
       "      <td>Ann</td>\n",
       "      <td>Gilmore</td>\n",
       "      <td>Female</td>\n",
       "      <td>Maryland</td>\n",
       "      <td>26</td>\n",
       "      <td>1/1/2017</td>\n",
       "      <td>1</td>\n",
       "      <td>married</td>\n",
       "      <td>40374</td>\n",
       "    </tr>\n",
       "  </tbody>\n",
       "</table>\n",
       "</div>"
      ],
      "text/plain": [
       "   user_id First Name    Surnam  Gender       STATE  Age date_joined  \\\n",
       "0    26711    Deborah  Esquivel  Female    Missouri   48    1/1/2017   \n",
       "1    33890   Patricia      Hart  Female  New Mexico   36    1/1/2017   \n",
       "2    65803    Kenneth    Farley    Male       Idaho   35    1/1/2017   \n",
       "3   125935   Michelle     Hicks  Female        Iowa   40    1/1/2017   \n",
       "4   130797        Ann   Gilmore  Female    Maryland   26    1/1/2017   \n",
       "\n",
       "   n_dependants fam_status  income  \n",
       "0             3    married  165665  \n",
       "1             0     single   59285  \n",
       "2             2    married   99568  \n",
       "3             0     single   42049  \n",
       "4             1    married   40374  "
      ]
     },
     "execution_count": 5,
     "metadata": {},
     "output_type": "execute_result"
    }
   ],
   "source": [
    "#examine data\n",
    "customer.head()"
   ]
  },
  {
   "cell_type": "code",
   "execution_count": 6,
   "id": "bd20d7f7",
   "metadata": {},
   "outputs": [
    {
     "data": {
      "text/plain": [
       "(206209, 10)"
      ]
     },
     "execution_count": 6,
     "metadata": {},
     "output_type": "execute_result"
    }
   ],
   "source": [
    "customer.shape"
   ]
  },
  {
   "cell_type": "code",
   "execution_count": 8,
   "id": "15f3d11d",
   "metadata": {},
   "outputs": [
    {
     "name": "stdout",
     "output_type": "stream",
     "text": [
      "<class 'pandas.core.frame.DataFrame'>\n",
      "RangeIndex: 206209 entries, 0 to 206208\n",
      "Data columns (total 10 columns):\n",
      " #   Column        Non-Null Count   Dtype \n",
      "---  ------        --------------   ----- \n",
      " 0   user_id       206209 non-null  int64 \n",
      " 1   First Name    194950 non-null  object\n",
      " 2   Surnam        206209 non-null  object\n",
      " 3   Gender        206209 non-null  object\n",
      " 4   STATE         206209 non-null  object\n",
      " 5   Age           206209 non-null  int64 \n",
      " 6   date_joined   206209 non-null  object\n",
      " 7   n_dependants  206209 non-null  int64 \n",
      " 8   fam_status    206209 non-null  object\n",
      " 9   income        206209 non-null  int64 \n",
      "dtypes: int64(4), object(6)\n",
      "memory usage: 15.7+ MB\n"
     ]
    }
   ],
   "source": [
    "customer.info()"
   ]
  },
  {
   "cell_type": "code",
   "execution_count": 9,
   "id": "56938b22",
   "metadata": {},
   "outputs": [
    {
     "data": {
      "text/html": [
       "<div>\n",
       "<style scoped>\n",
       "    .dataframe tbody tr th:only-of-type {\n",
       "        vertical-align: middle;\n",
       "    }\n",
       "\n",
       "    .dataframe tbody tr th {\n",
       "        vertical-align: top;\n",
       "    }\n",
       "\n",
       "    .dataframe thead th {\n",
       "        text-align: right;\n",
       "    }\n",
       "</style>\n",
       "<table border=\"1\" class=\"dataframe\">\n",
       "  <thead>\n",
       "    <tr style=\"text-align: right;\">\n",
       "      <th></th>\n",
       "      <th>user_id</th>\n",
       "      <th>Age</th>\n",
       "      <th>n_dependants</th>\n",
       "      <th>income</th>\n",
       "    </tr>\n",
       "  </thead>\n",
       "  <tbody>\n",
       "    <tr>\n",
       "      <th>count</th>\n",
       "      <td>206209.000000</td>\n",
       "      <td>206209.000000</td>\n",
       "      <td>206209.000000</td>\n",
       "      <td>206209.000000</td>\n",
       "    </tr>\n",
       "    <tr>\n",
       "      <th>mean</th>\n",
       "      <td>103105.000000</td>\n",
       "      <td>49.501646</td>\n",
       "      <td>1.499823</td>\n",
       "      <td>94632.852548</td>\n",
       "    </tr>\n",
       "    <tr>\n",
       "      <th>std</th>\n",
       "      <td>59527.555167</td>\n",
       "      <td>18.480962</td>\n",
       "      <td>1.118433</td>\n",
       "      <td>42473.786988</td>\n",
       "    </tr>\n",
       "    <tr>\n",
       "      <th>min</th>\n",
       "      <td>1.000000</td>\n",
       "      <td>18.000000</td>\n",
       "      <td>0.000000</td>\n",
       "      <td>25903.000000</td>\n",
       "    </tr>\n",
       "    <tr>\n",
       "      <th>25%</th>\n",
       "      <td>51553.000000</td>\n",
       "      <td>33.000000</td>\n",
       "      <td>0.000000</td>\n",
       "      <td>59874.000000</td>\n",
       "    </tr>\n",
       "    <tr>\n",
       "      <th>50%</th>\n",
       "      <td>103105.000000</td>\n",
       "      <td>49.000000</td>\n",
       "      <td>1.000000</td>\n",
       "      <td>93547.000000</td>\n",
       "    </tr>\n",
       "    <tr>\n",
       "      <th>75%</th>\n",
       "      <td>154657.000000</td>\n",
       "      <td>66.000000</td>\n",
       "      <td>3.000000</td>\n",
       "      <td>124244.000000</td>\n",
       "    </tr>\n",
       "    <tr>\n",
       "      <th>max</th>\n",
       "      <td>206209.000000</td>\n",
       "      <td>81.000000</td>\n",
       "      <td>3.000000</td>\n",
       "      <td>593901.000000</td>\n",
       "    </tr>\n",
       "  </tbody>\n",
       "</table>\n",
       "</div>"
      ],
      "text/plain": [
       "             user_id            Age   n_dependants         income\n",
       "count  206209.000000  206209.000000  206209.000000  206209.000000\n",
       "mean   103105.000000      49.501646       1.499823   94632.852548\n",
       "std     59527.555167      18.480962       1.118433   42473.786988\n",
       "min         1.000000      18.000000       0.000000   25903.000000\n",
       "25%     51553.000000      33.000000       0.000000   59874.000000\n",
       "50%    103105.000000      49.000000       1.000000   93547.000000\n",
       "75%    154657.000000      66.000000       3.000000  124244.000000\n",
       "max    206209.000000      81.000000       3.000000  593901.000000"
      ]
     },
     "execution_count": 9,
     "metadata": {},
     "output_type": "execute_result"
    }
   ],
   "source": [
    "customer.describe()"
   ]
  },
  {
   "cell_type": "markdown",
   "id": "6bdb1826",
   "metadata": {},
   "source": [
    "that max income looks a little weird"
   ]
  },
  {
   "cell_type": "code",
   "execution_count": 10,
   "id": "6d464dca",
   "metadata": {},
   "outputs": [
    {
     "data": {
      "text/plain": [
       "26711     1\n",
       "67322     1\n",
       "173044    1\n",
       "61044     1\n",
       "98344     1\n",
       "         ..\n",
       "146847    1\n",
       "154991    1\n",
       "172193    1\n",
       "184326    1\n",
       "80148     1\n",
       "Name: user_id, Length: 206209, dtype: int64"
      ]
     },
     "execution_count": 10,
     "metadata": {},
     "output_type": "execute_result"
    }
   ],
   "source": [
    "#check for blanks\n",
    "customer['user_id'].value_counts(dropna = False)"
   ]
  },
  {
   "cell_type": "code",
   "execution_count": 12,
   "id": "5c6a6205",
   "metadata": {},
   "outputs": [
    {
     "data": {
      "text/plain": [
       "NaN        11259\n",
       "Marilyn     2213\n",
       "Barbara     2154\n",
       "Todd        2113\n",
       "Jeremy      2104\n",
       "           ...  \n",
       "Merry        197\n",
       "Eugene       197\n",
       "Garry        191\n",
       "Ned          186\n",
       "David        186\n",
       "Name: First Name, Length: 208, dtype: int64"
      ]
     },
     "execution_count": 12,
     "metadata": {},
     "output_type": "execute_result"
    }
   ],
   "source": [
    "customer['First Name'].value_counts(dropna = False)"
   ]
  },
  {
   "cell_type": "markdown",
   "id": "0314ceb5",
   "metadata": {},
   "source": [
    "#lots of NaN in first name"
   ]
  },
  {
   "cell_type": "code",
   "execution_count": 13,
   "id": "f108b22c",
   "metadata": {},
   "outputs": [
    {
     "data": {
      "text/plain": [
       "Hamilton      252\n",
       "Randall       248\n",
       "Lamb          243\n",
       "Pennington    243\n",
       "Barnett       242\n",
       "             ... \n",
       "Poole         172\n",
       "Bauer         166\n",
       "Pearson       164\n",
       "Payne         163\n",
       "Jordan        162\n",
       "Name: Surnam, Length: 1000, dtype: int64"
      ]
     },
     "execution_count": 13,
     "metadata": {},
     "output_type": "execute_result"
    }
   ],
   "source": [
    "customer['Surnam'].value_counts(dropna = False)"
   ]
  },
  {
   "cell_type": "code",
   "execution_count": 14,
   "id": "56cac2ae",
   "metadata": {},
   "outputs": [
    {
     "data": {
      "text/plain": [
       "19    3329\n",
       "55    3317\n",
       "51    3317\n",
       "56    3306\n",
       "32    3305\n",
       "      ... \n",
       "65    3145\n",
       "25    3127\n",
       "66    3114\n",
       "50    3102\n",
       "36    3101\n",
       "Name: Age, Length: 64, dtype: int64"
      ]
     },
     "execution_count": 14,
     "metadata": {},
     "output_type": "execute_result"
    }
   ],
   "source": [
    "customer['Age'].value_counts(dropna = False)"
   ]
  },
  {
   "cell_type": "code",
   "execution_count": 15,
   "id": "b11415b6",
   "metadata": {},
   "outputs": [
    {
     "data": {
      "text/plain": [
       "Male      104067\n",
       "Female    102142\n",
       "Name: Gender, dtype: int64"
      ]
     },
     "execution_count": 15,
     "metadata": {},
     "output_type": "execute_result"
    }
   ],
   "source": [
    "customer['Gender'].value_counts(dropna = False)"
   ]
  },
  {
   "cell_type": "code",
   "execution_count": 16,
   "id": "569a0480",
   "metadata": {},
   "outputs": [
    {
     "data": {
      "text/plain": [
       "Florida                 4044\n",
       "Colorado                4044\n",
       "Illinois                4044\n",
       "Alabama                 4044\n",
       "District of Columbia    4044\n",
       "Hawaii                  4044\n",
       "Arizona                 4044\n",
       "Connecticut             4044\n",
       "California              4044\n",
       "Indiana                 4044\n",
       "Arkansas                4044\n",
       "Alaska                  4044\n",
       "Delaware                4044\n",
       "Iowa                    4044\n",
       "Idaho                   4044\n",
       "Georgia                 4044\n",
       "Wyoming                 4043\n",
       "Mississippi             4043\n",
       "Oklahoma                4043\n",
       "Utah                    4043\n",
       "New Hampshire           4043\n",
       "Kentucky                4043\n",
       "Maryland                4043\n",
       "Rhode Island            4043\n",
       "Massachusetts           4043\n",
       "Michigan                4043\n",
       "New Jersey              4043\n",
       "Kansas                  4043\n",
       "South Dakota            4043\n",
       "Minnesota               4043\n",
       "Tennessee               4043\n",
       "New York                4043\n",
       "Washington              4043\n",
       "Louisiana               4043\n",
       "Montana                 4043\n",
       "North Dakota            4043\n",
       "Wisconsin               4043\n",
       "Nebraska                4043\n",
       "Vermont                 4043\n",
       "Nevada                  4043\n",
       "Maine                   4043\n",
       "North Carolina          4043\n",
       "West Virginia           4043\n",
       "Virginia                4043\n",
       "Oregon                  4043\n",
       "New Mexico              4043\n",
       "Texas                   4043\n",
       "Pennsylvania            4043\n",
       "Ohio                    4043\n",
       "South Carolina          4043\n",
       "Missouri                4043\n",
       "Name: STATE, dtype: int64"
      ]
     },
     "execution_count": 16,
     "metadata": {},
     "output_type": "execute_result"
    }
   ],
   "source": [
    "customer['STATE'].value_counts(dropna = False)"
   ]
  },
  {
   "cell_type": "code",
   "execution_count": 17,
   "id": "9e1ba59a",
   "metadata": {},
   "outputs": [
    {
     "data": {
      "text/plain": [
       "19    3329\n",
       "55    3317\n",
       "51    3317\n",
       "56    3306\n",
       "32    3305\n",
       "      ... \n",
       "65    3145\n",
       "25    3127\n",
       "66    3114\n",
       "50    3102\n",
       "36    3101\n",
       "Name: Age, Length: 64, dtype: int64"
      ]
     },
     "execution_count": 17,
     "metadata": {},
     "output_type": "execute_result"
    }
   ],
   "source": [
    "customer['Age'].value_counts(dropna = False)"
   ]
  },
  {
   "cell_type": "code",
   "execution_count": 18,
   "id": "196bb51c",
   "metadata": {},
   "outputs": [
    {
     "data": {
      "text/plain": [
       "9/17/2018     213\n",
       "2/10/2018     212\n",
       "4/1/2019      211\n",
       "9/21/2019     211\n",
       "12/19/2017    210\n",
       "             ... \n",
       "9/1/2018      141\n",
       "1/22/2018     140\n",
       "11/24/2017    139\n",
       "7/18/2019     138\n",
       "8/6/2018      128\n",
       "Name: date_joined, Length: 1187, dtype: int64"
      ]
     },
     "execution_count": 18,
     "metadata": {},
     "output_type": "execute_result"
    }
   ],
   "source": [
    "customer['date_joined'].value_counts(dropna = False)"
   ]
  },
  {
   "cell_type": "code",
   "execution_count": 19,
   "id": "20e2351f",
   "metadata": {},
   "outputs": [
    {
     "data": {
      "text/plain": [
       "0    51602\n",
       "3    51594\n",
       "1    51531\n",
       "2    51482\n",
       "Name: n_dependants, dtype: int64"
      ]
     },
     "execution_count": 19,
     "metadata": {},
     "output_type": "execute_result"
    }
   ],
   "source": [
    "customer['n_dependants'].value_counts(dropna = False)"
   ]
  },
  {
   "cell_type": "code",
   "execution_count": 20,
   "id": "c40fa27a",
   "metadata": {},
   "outputs": [
    {
     "data": {
      "text/plain": [
       "married                             144906\n",
       "single                               33962\n",
       "divorced/widowed                     17640\n",
       "living with parents and siblings      9701\n",
       "Name: fam_status, dtype: int64"
      ]
     },
     "execution_count": 20,
     "metadata": {},
     "output_type": "execute_result"
    }
   ],
   "source": [
    "customer['fam_status'].value_counts(dropna = False)"
   ]
  },
  {
   "cell_type": "code",
   "execution_count": 21,
   "id": "69199ab8",
   "metadata": {},
   "outputs": [
    {
     "data": {
      "text/plain": [
       "57192     10\n",
       "95891     10\n",
       "95710     10\n",
       "97532      9\n",
       "98675      9\n",
       "          ..\n",
       "73141      1\n",
       "71524      1\n",
       "74408      1\n",
       "44780      1\n",
       "148828     1\n",
       "Name: income, Length: 108012, dtype: int64"
      ]
     },
     "execution_count": 21,
     "metadata": {},
     "output_type": "execute_result"
    }
   ],
   "source": [
    "customer['income'].value_counts(dropna = False)"
   ]
  },
  {
   "cell_type": "code",
   "execution_count": 24,
   "id": "b144824f",
   "metadata": {},
   "outputs": [
    {
     "data": {
      "text/plain": [
       "user_id             0\n",
       "First Name      11259\n",
       "Surnam              0\n",
       "Gender              0\n",
       "STATE               0\n",
       "Age                 0\n",
       "date_joined         0\n",
       "n_dependants        0\n",
       "fam_status          0\n",
       "income              0\n",
       "dtype: int64"
      ]
     },
     "execution_count": 24,
     "metadata": {},
     "output_type": "execute_result"
    }
   ],
   "source": [
    "customer.isnull().sum()"
   ]
  },
  {
   "cell_type": "code",
   "execution_count": 23,
   "id": "62d131e8",
   "metadata": {},
   "outputs": [
    {
     "data": {
      "text/plain": [
       "0         False\n",
       "1         False\n",
       "2         False\n",
       "3         False\n",
       "4         False\n",
       "          ...  \n",
       "206204    False\n",
       "206205    False\n",
       "206206    False\n",
       "206207    False\n",
       "206208    False\n",
       "Length: 206209, dtype: bool"
      ]
     },
     "execution_count": 23,
     "metadata": {},
     "output_type": "execute_result"
    }
   ],
   "source": [
    "#check for duplicates\n",
    "customer.duplicated()"
   ]
  },
  {
   "cell_type": "code",
   "execution_count": 25,
   "id": "6187ee10",
   "metadata": {},
   "outputs": [],
   "source": [
    "customer_dups = customer[customer.duplicated()]"
   ]
  },
  {
   "cell_type": "code",
   "execution_count": 34,
   "id": "21dc6564",
   "metadata": {},
   "outputs": [],
   "source": [
    "#flag NaN first names\n",
    "\n",
    "customer['no_first_name'] = np.where(customer['First Name'].notna(), 'No Missing Name', 'Missing Name')"
   ]
  },
  {
   "cell_type": "code",
   "execution_count": 35,
   "id": "8f789be2",
   "metadata": {},
   "outputs": [
    {
     "data": {
      "text/html": [
       "<div>\n",
       "<style scoped>\n",
       "    .dataframe tbody tr th:only-of-type {\n",
       "        vertical-align: middle;\n",
       "    }\n",
       "\n",
       "    .dataframe tbody tr th {\n",
       "        vertical-align: top;\n",
       "    }\n",
       "\n",
       "    .dataframe thead th {\n",
       "        text-align: right;\n",
       "    }\n",
       "</style>\n",
       "<table border=\"1\" class=\"dataframe\">\n",
       "  <thead>\n",
       "    <tr style=\"text-align: right;\">\n",
       "      <th></th>\n",
       "      <th>user_id</th>\n",
       "      <th>First Name</th>\n",
       "      <th>Surnam</th>\n",
       "      <th>Gender</th>\n",
       "      <th>STATE</th>\n",
       "      <th>Age</th>\n",
       "      <th>date_joined</th>\n",
       "      <th>n_dependants</th>\n",
       "      <th>fam_status</th>\n",
       "      <th>income</th>\n",
       "      <th>no_first_name</th>\n",
       "    </tr>\n",
       "  </thead>\n",
       "  <tbody>\n",
       "    <tr>\n",
       "      <th>0</th>\n",
       "      <td>26711</td>\n",
       "      <td>Deborah</td>\n",
       "      <td>Esquivel</td>\n",
       "      <td>Female</td>\n",
       "      <td>Missouri</td>\n",
       "      <td>48</td>\n",
       "      <td>1/1/2017</td>\n",
       "      <td>3</td>\n",
       "      <td>married</td>\n",
       "      <td>165665</td>\n",
       "      <td>No Missing Name</td>\n",
       "    </tr>\n",
       "    <tr>\n",
       "      <th>1</th>\n",
       "      <td>33890</td>\n",
       "      <td>Patricia</td>\n",
       "      <td>Hart</td>\n",
       "      <td>Female</td>\n",
       "      <td>New Mexico</td>\n",
       "      <td>36</td>\n",
       "      <td>1/1/2017</td>\n",
       "      <td>0</td>\n",
       "      <td>single</td>\n",
       "      <td>59285</td>\n",
       "      <td>No Missing Name</td>\n",
       "    </tr>\n",
       "    <tr>\n",
       "      <th>2</th>\n",
       "      <td>65803</td>\n",
       "      <td>Kenneth</td>\n",
       "      <td>Farley</td>\n",
       "      <td>Male</td>\n",
       "      <td>Idaho</td>\n",
       "      <td>35</td>\n",
       "      <td>1/1/2017</td>\n",
       "      <td>2</td>\n",
       "      <td>married</td>\n",
       "      <td>99568</td>\n",
       "      <td>No Missing Name</td>\n",
       "    </tr>\n",
       "    <tr>\n",
       "      <th>3</th>\n",
       "      <td>125935</td>\n",
       "      <td>Michelle</td>\n",
       "      <td>Hicks</td>\n",
       "      <td>Female</td>\n",
       "      <td>Iowa</td>\n",
       "      <td>40</td>\n",
       "      <td>1/1/2017</td>\n",
       "      <td>0</td>\n",
       "      <td>single</td>\n",
       "      <td>42049</td>\n",
       "      <td>No Missing Name</td>\n",
       "    </tr>\n",
       "    <tr>\n",
       "      <th>4</th>\n",
       "      <td>130797</td>\n",
       "      <td>Ann</td>\n",
       "      <td>Gilmore</td>\n",
       "      <td>Female</td>\n",
       "      <td>Maryland</td>\n",
       "      <td>26</td>\n",
       "      <td>1/1/2017</td>\n",
       "      <td>1</td>\n",
       "      <td>married</td>\n",
       "      <td>40374</td>\n",
       "      <td>No Missing Name</td>\n",
       "    </tr>\n",
       "  </tbody>\n",
       "</table>\n",
       "</div>"
      ],
      "text/plain": [
       "   user_id First Name    Surnam  Gender       STATE  Age date_joined  \\\n",
       "0    26711    Deborah  Esquivel  Female    Missouri   48    1/1/2017   \n",
       "1    33890   Patricia      Hart  Female  New Mexico   36    1/1/2017   \n",
       "2    65803    Kenneth    Farley    Male       Idaho   35    1/1/2017   \n",
       "3   125935   Michelle     Hicks  Female        Iowa   40    1/1/2017   \n",
       "4   130797        Ann   Gilmore  Female    Maryland   26    1/1/2017   \n",
       "\n",
       "   n_dependants fam_status  income    no_first_name  \n",
       "0             3    married  165665  No Missing Name  \n",
       "1             0     single   59285  No Missing Name  \n",
       "2             2    married   99568  No Missing Name  \n",
       "3             0     single   42049  No Missing Name  \n",
       "4             1    married   40374  No Missing Name  "
      ]
     },
     "execution_count": 35,
     "metadata": {},
     "output_type": "execute_result"
    }
   ],
   "source": [
    "customer.head()"
   ]
  },
  {
   "cell_type": "code",
   "execution_count": 38,
   "id": "3a5cd5f5",
   "metadata": {},
   "outputs": [
    {
     "data": {
      "text/plain": [
       "No Missing Name    194950\n",
       "Missing Name        11259\n",
       "Name: no_first_name, dtype: int64"
      ]
     },
     "execution_count": 38,
     "metadata": {},
     "output_type": "execute_result"
    }
   ],
   "source": [
    "#did it flag the correct number of values: yes\n",
    "customer['no_first_name'].value_counts()"
   ]
  },
  {
   "cell_type": "code",
   "execution_count": 39,
   "id": "7ef7684c",
   "metadata": {},
   "outputs": [],
   "source": [
    "#rename columns  Surnam --> Last Name\n",
    "customer.rename(columns = {'Surnam': 'Last Name'}, inplace = True)"
   ]
  },
  {
   "cell_type": "code",
   "execution_count": 40,
   "id": "7991229f",
   "metadata": {},
   "outputs": [],
   "source": [
    "customer.rename(columns = {'STATE': 'State'}, inplace = True)"
   ]
  },
  {
   "cell_type": "code",
   "execution_count": 41,
   "id": "6f4d73fd",
   "metadata": {},
   "outputs": [
    {
     "data": {
      "text/html": [
       "<div>\n",
       "<style scoped>\n",
       "    .dataframe tbody tr th:only-of-type {\n",
       "        vertical-align: middle;\n",
       "    }\n",
       "\n",
       "    .dataframe tbody tr th {\n",
       "        vertical-align: top;\n",
       "    }\n",
       "\n",
       "    .dataframe thead th {\n",
       "        text-align: right;\n",
       "    }\n",
       "</style>\n",
       "<table border=\"1\" class=\"dataframe\">\n",
       "  <thead>\n",
       "    <tr style=\"text-align: right;\">\n",
       "      <th></th>\n",
       "      <th>user_id</th>\n",
       "      <th>First Name</th>\n",
       "      <th>Last Name</th>\n",
       "      <th>Gender</th>\n",
       "      <th>State</th>\n",
       "      <th>Age</th>\n",
       "      <th>date_joined</th>\n",
       "      <th>n_dependants</th>\n",
       "      <th>fam_status</th>\n",
       "      <th>income</th>\n",
       "      <th>no_first_name</th>\n",
       "    </tr>\n",
       "  </thead>\n",
       "  <tbody>\n",
       "    <tr>\n",
       "      <th>0</th>\n",
       "      <td>26711</td>\n",
       "      <td>Deborah</td>\n",
       "      <td>Esquivel</td>\n",
       "      <td>Female</td>\n",
       "      <td>Missouri</td>\n",
       "      <td>48</td>\n",
       "      <td>1/1/2017</td>\n",
       "      <td>3</td>\n",
       "      <td>married</td>\n",
       "      <td>165665</td>\n",
       "      <td>No Missing Name</td>\n",
       "    </tr>\n",
       "    <tr>\n",
       "      <th>1</th>\n",
       "      <td>33890</td>\n",
       "      <td>Patricia</td>\n",
       "      <td>Hart</td>\n",
       "      <td>Female</td>\n",
       "      <td>New Mexico</td>\n",
       "      <td>36</td>\n",
       "      <td>1/1/2017</td>\n",
       "      <td>0</td>\n",
       "      <td>single</td>\n",
       "      <td>59285</td>\n",
       "      <td>No Missing Name</td>\n",
       "    </tr>\n",
       "    <tr>\n",
       "      <th>2</th>\n",
       "      <td>65803</td>\n",
       "      <td>Kenneth</td>\n",
       "      <td>Farley</td>\n",
       "      <td>Male</td>\n",
       "      <td>Idaho</td>\n",
       "      <td>35</td>\n",
       "      <td>1/1/2017</td>\n",
       "      <td>2</td>\n",
       "      <td>married</td>\n",
       "      <td>99568</td>\n",
       "      <td>No Missing Name</td>\n",
       "    </tr>\n",
       "    <tr>\n",
       "      <th>3</th>\n",
       "      <td>125935</td>\n",
       "      <td>Michelle</td>\n",
       "      <td>Hicks</td>\n",
       "      <td>Female</td>\n",
       "      <td>Iowa</td>\n",
       "      <td>40</td>\n",
       "      <td>1/1/2017</td>\n",
       "      <td>0</td>\n",
       "      <td>single</td>\n",
       "      <td>42049</td>\n",
       "      <td>No Missing Name</td>\n",
       "    </tr>\n",
       "    <tr>\n",
       "      <th>4</th>\n",
       "      <td>130797</td>\n",
       "      <td>Ann</td>\n",
       "      <td>Gilmore</td>\n",
       "      <td>Female</td>\n",
       "      <td>Maryland</td>\n",
       "      <td>26</td>\n",
       "      <td>1/1/2017</td>\n",
       "      <td>1</td>\n",
       "      <td>married</td>\n",
       "      <td>40374</td>\n",
       "      <td>No Missing Name</td>\n",
       "    </tr>\n",
       "  </tbody>\n",
       "</table>\n",
       "</div>"
      ],
      "text/plain": [
       "   user_id First Name Last Name  Gender       State  Age date_joined  \\\n",
       "0    26711    Deborah  Esquivel  Female    Missouri   48    1/1/2017   \n",
       "1    33890   Patricia      Hart  Female  New Mexico   36    1/1/2017   \n",
       "2    65803    Kenneth    Farley    Male       Idaho   35    1/1/2017   \n",
       "3   125935   Michelle     Hicks  Female        Iowa   40    1/1/2017   \n",
       "4   130797        Ann   Gilmore  Female    Maryland   26    1/1/2017   \n",
       "\n",
       "   n_dependants fam_status  income    no_first_name  \n",
       "0             3    married  165665  No Missing Name  \n",
       "1             0     single   59285  No Missing Name  \n",
       "2             2    married   99568  No Missing Name  \n",
       "3             0     single   42049  No Missing Name  \n",
       "4             1    married   40374  No Missing Name  "
      ]
     },
     "execution_count": 41,
     "metadata": {},
     "output_type": "execute_result"
    }
   ],
   "source": [
    "customer.head()"
   ]
  },
  {
   "cell_type": "code",
   "execution_count": 43,
   "id": "0248d00a",
   "metadata": {},
   "outputs": [
    {
     "data": {
      "text/plain": [
       "593901"
      ]
     },
     "execution_count": 43,
     "metadata": {},
     "output_type": "execute_result"
    }
   ],
   "source": [
    "#still wondering about that max income \n",
    "customer['income'].max()"
   ]
  },
  {
   "cell_type": "markdown",
   "id": "07b021dc",
   "metadata": {},
   "source": [
    "Maybe that's reasonable, I would need to ask a client about it"
   ]
  },
  {
   "cell_type": "code",
   "execution_count": 44,
   "id": "f325c62a",
   "metadata": {},
   "outputs": [],
   "source": [
    "# I don't know what kind of analysis the company wants to do so I am hesitant to drop any of the columns"
   ]
  },
  {
   "cell_type": "code",
   "execution_count": 45,
   "id": "13940446",
   "metadata": {},
   "outputs": [
    {
     "name": "stdout",
     "output_type": "stream",
     "text": [
      "First Name\n"
     ]
    }
   ],
   "source": [
    "##check for mixed types\n",
    "for col in customer.columns.tolist():\n",
    "  weird = (customer[[col]].applymap(type) != customer[[col]].iloc[0].apply(type)).any(axis = 1)\n",
    "  if len (customer[weird]) > 0:\n",
    "    print (col)"
   ]
  },
  {
   "cell_type": "code",
   "execution_count": 46,
   "id": "e1fd92e6",
   "metadata": {},
   "outputs": [],
   "source": [
    "#First Name is a mixed type columnn, let's change it all to string\n",
    "customer['First Name'] = customer['First Name'].astype('str')"
   ]
  },
  {
   "cell_type": "code",
   "execution_count": 47,
   "id": "48b6cdea",
   "metadata": {},
   "outputs": [
    {
     "data": {
      "text/plain": [
       "dtype('int64')"
      ]
     },
     "execution_count": 47,
     "metadata": {},
     "output_type": "execute_result"
    }
   ],
   "source": [
    "#check type of key column user_id\n",
    "customer['user_id'].dtype"
   ]
  },
  {
   "cell_type": "code",
   "execution_count": 49,
   "id": "27227cee",
   "metadata": {},
   "outputs": [],
   "source": [
    "#import the merged dataframe\n",
    "ords_prods_merged = pd.read_pickle(os.path.join(path, '02 Data', 'Prepared Data', 'orders_products_merged_updated_2.pkl'))"
   ]
  },
  {
   "cell_type": "code",
   "execution_count": 50,
   "id": "ea34aeb6",
   "metadata": {},
   "outputs": [
    {
     "data": {
      "text/html": [
       "<div>\n",
       "<style scoped>\n",
       "    .dataframe tbody tr th:only-of-type {\n",
       "        vertical-align: middle;\n",
       "    }\n",
       "\n",
       "    .dataframe tbody tr th {\n",
       "        vertical-align: top;\n",
       "    }\n",
       "\n",
       "    .dataframe thead th {\n",
       "        text-align: right;\n",
       "    }\n",
       "</style>\n",
       "<table border=\"1\" class=\"dataframe\">\n",
       "  <thead>\n",
       "    <tr style=\"text-align: right;\">\n",
       "      <th></th>\n",
       "      <th>order_id</th>\n",
       "      <th>user_id</th>\n",
       "      <th>order_number</th>\n",
       "      <th>order_day_of_week</th>\n",
       "      <th>order_hour</th>\n",
       "      <th>days_since_prior_order</th>\n",
       "      <th>flagged</th>\n",
       "      <th>product_id</th>\n",
       "      <th>add_to_cart_order</th>\n",
       "      <th>reordered</th>\n",
       "      <th>...</th>\n",
       "      <th>busiest_day</th>\n",
       "      <th>busiest_days</th>\n",
       "      <th>busiest_period_of_day</th>\n",
       "      <th>mean_order</th>\n",
       "      <th>max_order</th>\n",
       "      <th>loyalty_flag</th>\n",
       "      <th>mean_spending</th>\n",
       "      <th>spending_flag</th>\n",
       "      <th>median_days_since_prior</th>\n",
       "      <th>frequency_flag</th>\n",
       "    </tr>\n",
       "  </thead>\n",
       "  <tbody>\n",
       "    <tr>\n",
       "      <th>0</th>\n",
       "      <td>2539329.0</td>\n",
       "      <td>1.0</td>\n",
       "      <td>1.0</td>\n",
       "      <td>2.0</td>\n",
       "      <td>8.0</td>\n",
       "      <td>NaN</td>\n",
       "      <td>No Previous Order</td>\n",
       "      <td>196</td>\n",
       "      <td>1.0</td>\n",
       "      <td>0.0</td>\n",
       "      <td>...</td>\n",
       "      <td>Regularly busy</td>\n",
       "      <td>Regularly busy</td>\n",
       "      <td>Average orders</td>\n",
       "      <td>17.225802</td>\n",
       "      <td>10.0</td>\n",
       "      <td>New customer</td>\n",
       "      <td>6.367797</td>\n",
       "      <td>Low spender</td>\n",
       "      <td>20.5</td>\n",
       "      <td>Non-frequent customer</td>\n",
       "    </tr>\n",
       "    <tr>\n",
       "      <th>1</th>\n",
       "      <td>2398795.0</td>\n",
       "      <td>1.0</td>\n",
       "      <td>2.0</td>\n",
       "      <td>3.0</td>\n",
       "      <td>7.0</td>\n",
       "      <td>15.0</td>\n",
       "      <td>Previous Order</td>\n",
       "      <td>196</td>\n",
       "      <td>1.0</td>\n",
       "      <td>1.0</td>\n",
       "      <td>...</td>\n",
       "      <td>Regularly busy</td>\n",
       "      <td>Least busy days</td>\n",
       "      <td>Average orders</td>\n",
       "      <td>17.225802</td>\n",
       "      <td>10.0</td>\n",
       "      <td>New customer</td>\n",
       "      <td>6.367797</td>\n",
       "      <td>Low spender</td>\n",
       "      <td>20.5</td>\n",
       "      <td>Non-frequent customer</td>\n",
       "    </tr>\n",
       "    <tr>\n",
       "      <th>2</th>\n",
       "      <td>473747.0</td>\n",
       "      <td>1.0</td>\n",
       "      <td>3.0</td>\n",
       "      <td>3.0</td>\n",
       "      <td>12.0</td>\n",
       "      <td>21.0</td>\n",
       "      <td>Previous Order</td>\n",
       "      <td>196</td>\n",
       "      <td>1.0</td>\n",
       "      <td>1.0</td>\n",
       "      <td>...</td>\n",
       "      <td>Regularly busy</td>\n",
       "      <td>Least busy days</td>\n",
       "      <td>Average orders</td>\n",
       "      <td>17.225802</td>\n",
       "      <td>10.0</td>\n",
       "      <td>New customer</td>\n",
       "      <td>6.367797</td>\n",
       "      <td>Low spender</td>\n",
       "      <td>20.5</td>\n",
       "      <td>Non-frequent customer</td>\n",
       "    </tr>\n",
       "    <tr>\n",
       "      <th>3</th>\n",
       "      <td>2254736.0</td>\n",
       "      <td>1.0</td>\n",
       "      <td>4.0</td>\n",
       "      <td>4.0</td>\n",
       "      <td>7.0</td>\n",
       "      <td>29.0</td>\n",
       "      <td>Previous Order</td>\n",
       "      <td>196</td>\n",
       "      <td>1.0</td>\n",
       "      <td>1.0</td>\n",
       "      <td>...</td>\n",
       "      <td>Least busy</td>\n",
       "      <td>Least busy days</td>\n",
       "      <td>Average orders</td>\n",
       "      <td>17.225802</td>\n",
       "      <td>10.0</td>\n",
       "      <td>New customer</td>\n",
       "      <td>6.367797</td>\n",
       "      <td>Low spender</td>\n",
       "      <td>20.5</td>\n",
       "      <td>Non-frequent customer</td>\n",
       "    </tr>\n",
       "    <tr>\n",
       "      <th>4</th>\n",
       "      <td>431534.0</td>\n",
       "      <td>1.0</td>\n",
       "      <td>5.0</td>\n",
       "      <td>4.0</td>\n",
       "      <td>15.0</td>\n",
       "      <td>28.0</td>\n",
       "      <td>Previous Order</td>\n",
       "      <td>196</td>\n",
       "      <td>1.0</td>\n",
       "      <td>1.0</td>\n",
       "      <td>...</td>\n",
       "      <td>Least busy</td>\n",
       "      <td>Least busy days</td>\n",
       "      <td>Average orders</td>\n",
       "      <td>17.225802</td>\n",
       "      <td>10.0</td>\n",
       "      <td>New customer</td>\n",
       "      <td>6.367797</td>\n",
       "      <td>Low spender</td>\n",
       "      <td>20.5</td>\n",
       "      <td>Non-frequent customer</td>\n",
       "    </tr>\n",
       "  </tbody>\n",
       "</table>\n",
       "<p>5 rows × 27 columns</p>\n",
       "</div>"
      ],
      "text/plain": [
       "    order_id  user_id  order_number  order_day_of_week  order_hour  \\\n",
       "0  2539329.0      1.0           1.0                2.0         8.0   \n",
       "1  2398795.0      1.0           2.0                3.0         7.0   \n",
       "2   473747.0      1.0           3.0                3.0        12.0   \n",
       "3  2254736.0      1.0           4.0                4.0         7.0   \n",
       "4   431534.0      1.0           5.0                4.0        15.0   \n",
       "\n",
       "   days_since_prior_order            flagged  product_id  add_to_cart_order  \\\n",
       "0                     NaN  No Previous Order         196                1.0   \n",
       "1                    15.0     Previous Order         196                1.0   \n",
       "2                    21.0     Previous Order         196                1.0   \n",
       "3                    29.0     Previous Order         196                1.0   \n",
       "4                    28.0     Previous Order         196                1.0   \n",
       "\n",
       "   reordered  ...     busiest_day     busiest_days  busiest_period_of_day  \\\n",
       "0        0.0  ...  Regularly busy   Regularly busy         Average orders   \n",
       "1        1.0  ...  Regularly busy  Least busy days         Average orders   \n",
       "2        1.0  ...  Regularly busy  Least busy days         Average orders   \n",
       "3        1.0  ...      Least busy  Least busy days         Average orders   \n",
       "4        1.0  ...      Least busy  Least busy days         Average orders   \n",
       "\n",
       "   mean_order  max_order  loyalty_flag mean_spending spending_flag  \\\n",
       "0   17.225802       10.0  New customer      6.367797   Low spender   \n",
       "1   17.225802       10.0  New customer      6.367797   Low spender   \n",
       "2   17.225802       10.0  New customer      6.367797   Low spender   \n",
       "3   17.225802       10.0  New customer      6.367797   Low spender   \n",
       "4   17.225802       10.0  New customer      6.367797   Low spender   \n",
       "\n",
       "  median_days_since_prior         frequency_flag  \n",
       "0                    20.5  Non-frequent customer  \n",
       "1                    20.5  Non-frequent customer  \n",
       "2                    20.5  Non-frequent customer  \n",
       "3                    20.5  Non-frequent customer  \n",
       "4                    20.5  Non-frequent customer  \n",
       "\n",
       "[5 rows x 27 columns]"
      ]
     },
     "execution_count": 50,
     "metadata": {},
     "output_type": "execute_result"
    }
   ],
   "source": [
    "ords_prods_merged.head()"
   ]
  },
  {
   "cell_type": "code",
   "execution_count": 52,
   "id": "c7627782",
   "metadata": {},
   "outputs": [
    {
     "data": {
      "text/plain": [
       "dtype('float64')"
      ]
     },
     "execution_count": 52,
     "metadata": {},
     "output_type": "execute_result"
    }
   ],
   "source": [
    "ords_prods_merged['user_id'].dtype"
   ]
  },
  {
   "cell_type": "code",
   "execution_count": 53,
   "id": "dbfa8f63",
   "metadata": {},
   "outputs": [],
   "source": [
    "#convert customer['user_id'] to float\n",
    "customer['user_id'] = customer['user_id'].astype(float)"
   ]
  },
  {
   "cell_type": "code",
   "execution_count": 54,
   "id": "2abb1f52",
   "metadata": {},
   "outputs": [
    {
     "data": {
      "text/plain": [
       "dtype('float64')"
      ]
     },
     "execution_count": 54,
     "metadata": {},
     "output_type": "execute_result"
    }
   ],
   "source": [
    "#check type of key column user_id\n",
    "customer['user_id'].dtype"
   ]
  },
  {
   "cell_type": "code",
   "execution_count": 58,
   "id": "aa143988",
   "metadata": {},
   "outputs": [
    {
     "data": {
      "text/plain": [
       "(206209, 11)"
      ]
     },
     "execution_count": 58,
     "metadata": {},
     "output_type": "execute_result"
    }
   ],
   "source": [
    "#consistency check after cleaning\n",
    "customer.shape"
   ]
  },
  {
   "cell_type": "code",
   "execution_count": 65,
   "id": "b08f4b56",
   "metadata": {},
   "outputs": [],
   "source": [
    "#combine data frames as 'orders_products_all'\n",
    "orders_products_all = ords_prods_merged.merge(customer, on = 'user_id', how = 'outer')"
   ]
  },
  {
   "cell_type": "code",
   "execution_count": 66,
   "id": "c6c11010",
   "metadata": {},
   "outputs": [
    {
     "data": {
      "text/html": [
       "<div>\n",
       "<style scoped>\n",
       "    .dataframe tbody tr th:only-of-type {\n",
       "        vertical-align: middle;\n",
       "    }\n",
       "\n",
       "    .dataframe tbody tr th {\n",
       "        vertical-align: top;\n",
       "    }\n",
       "\n",
       "    .dataframe thead th {\n",
       "        text-align: right;\n",
       "    }\n",
       "</style>\n",
       "<table border=\"1\" class=\"dataframe\">\n",
       "  <thead>\n",
       "    <tr style=\"text-align: right;\">\n",
       "      <th></th>\n",
       "      <th>order_id</th>\n",
       "      <th>user_id</th>\n",
       "      <th>order_number</th>\n",
       "      <th>order_day_of_week</th>\n",
       "      <th>order_hour</th>\n",
       "      <th>days_since_prior_order</th>\n",
       "      <th>flagged</th>\n",
       "      <th>product_id</th>\n",
       "      <th>add_to_cart_order</th>\n",
       "      <th>reordered</th>\n",
       "      <th>...</th>\n",
       "      <th>First Name</th>\n",
       "      <th>Last Name</th>\n",
       "      <th>Gender</th>\n",
       "      <th>State</th>\n",
       "      <th>Age</th>\n",
       "      <th>date_joined</th>\n",
       "      <th>n_dependants</th>\n",
       "      <th>fam_status</th>\n",
       "      <th>income</th>\n",
       "      <th>no_first_name</th>\n",
       "    </tr>\n",
       "  </thead>\n",
       "  <tbody>\n",
       "    <tr>\n",
       "      <th>0</th>\n",
       "      <td>2539329.0</td>\n",
       "      <td>1.0</td>\n",
       "      <td>1.0</td>\n",
       "      <td>2.0</td>\n",
       "      <td>8.0</td>\n",
       "      <td>NaN</td>\n",
       "      <td>No Previous Order</td>\n",
       "      <td>196</td>\n",
       "      <td>1.0</td>\n",
       "      <td>0.0</td>\n",
       "      <td>...</td>\n",
       "      <td>Linda</td>\n",
       "      <td>Nguyen</td>\n",
       "      <td>Female</td>\n",
       "      <td>Alabama</td>\n",
       "      <td>31.0</td>\n",
       "      <td>2/17/2019</td>\n",
       "      <td>3.0</td>\n",
       "      <td>married</td>\n",
       "      <td>40423.0</td>\n",
       "      <td>No Missing Name</td>\n",
       "    </tr>\n",
       "    <tr>\n",
       "      <th>1</th>\n",
       "      <td>2398795.0</td>\n",
       "      <td>1.0</td>\n",
       "      <td>2.0</td>\n",
       "      <td>3.0</td>\n",
       "      <td>7.0</td>\n",
       "      <td>15.0</td>\n",
       "      <td>Previous Order</td>\n",
       "      <td>196</td>\n",
       "      <td>1.0</td>\n",
       "      <td>1.0</td>\n",
       "      <td>...</td>\n",
       "      <td>Linda</td>\n",
       "      <td>Nguyen</td>\n",
       "      <td>Female</td>\n",
       "      <td>Alabama</td>\n",
       "      <td>31.0</td>\n",
       "      <td>2/17/2019</td>\n",
       "      <td>3.0</td>\n",
       "      <td>married</td>\n",
       "      <td>40423.0</td>\n",
       "      <td>No Missing Name</td>\n",
       "    </tr>\n",
       "    <tr>\n",
       "      <th>2</th>\n",
       "      <td>473747.0</td>\n",
       "      <td>1.0</td>\n",
       "      <td>3.0</td>\n",
       "      <td>3.0</td>\n",
       "      <td>12.0</td>\n",
       "      <td>21.0</td>\n",
       "      <td>Previous Order</td>\n",
       "      <td>196</td>\n",
       "      <td>1.0</td>\n",
       "      <td>1.0</td>\n",
       "      <td>...</td>\n",
       "      <td>Linda</td>\n",
       "      <td>Nguyen</td>\n",
       "      <td>Female</td>\n",
       "      <td>Alabama</td>\n",
       "      <td>31.0</td>\n",
       "      <td>2/17/2019</td>\n",
       "      <td>3.0</td>\n",
       "      <td>married</td>\n",
       "      <td>40423.0</td>\n",
       "      <td>No Missing Name</td>\n",
       "    </tr>\n",
       "    <tr>\n",
       "      <th>3</th>\n",
       "      <td>2254736.0</td>\n",
       "      <td>1.0</td>\n",
       "      <td>4.0</td>\n",
       "      <td>4.0</td>\n",
       "      <td>7.0</td>\n",
       "      <td>29.0</td>\n",
       "      <td>Previous Order</td>\n",
       "      <td>196</td>\n",
       "      <td>1.0</td>\n",
       "      <td>1.0</td>\n",
       "      <td>...</td>\n",
       "      <td>Linda</td>\n",
       "      <td>Nguyen</td>\n",
       "      <td>Female</td>\n",
       "      <td>Alabama</td>\n",
       "      <td>31.0</td>\n",
       "      <td>2/17/2019</td>\n",
       "      <td>3.0</td>\n",
       "      <td>married</td>\n",
       "      <td>40423.0</td>\n",
       "      <td>No Missing Name</td>\n",
       "    </tr>\n",
       "    <tr>\n",
       "      <th>4</th>\n",
       "      <td>431534.0</td>\n",
       "      <td>1.0</td>\n",
       "      <td>5.0</td>\n",
       "      <td>4.0</td>\n",
       "      <td>15.0</td>\n",
       "      <td>28.0</td>\n",
       "      <td>Previous Order</td>\n",
       "      <td>196</td>\n",
       "      <td>1.0</td>\n",
       "      <td>1.0</td>\n",
       "      <td>...</td>\n",
       "      <td>Linda</td>\n",
       "      <td>Nguyen</td>\n",
       "      <td>Female</td>\n",
       "      <td>Alabama</td>\n",
       "      <td>31.0</td>\n",
       "      <td>2/17/2019</td>\n",
       "      <td>3.0</td>\n",
       "      <td>married</td>\n",
       "      <td>40423.0</td>\n",
       "      <td>No Missing Name</td>\n",
       "    </tr>\n",
       "  </tbody>\n",
       "</table>\n",
       "<p>5 rows × 37 columns</p>\n",
       "</div>"
      ],
      "text/plain": [
       "    order_id  user_id  order_number  order_day_of_week  order_hour  \\\n",
       "0  2539329.0      1.0           1.0                2.0         8.0   \n",
       "1  2398795.0      1.0           2.0                3.0         7.0   \n",
       "2   473747.0      1.0           3.0                3.0        12.0   \n",
       "3  2254736.0      1.0           4.0                4.0         7.0   \n",
       "4   431534.0      1.0           5.0                4.0        15.0   \n",
       "\n",
       "   days_since_prior_order            flagged  product_id  add_to_cart_order  \\\n",
       "0                     NaN  No Previous Order         196                1.0   \n",
       "1                    15.0     Previous Order         196                1.0   \n",
       "2                    21.0     Previous Order         196                1.0   \n",
       "3                    29.0     Previous Order         196                1.0   \n",
       "4                    28.0     Previous Order         196                1.0   \n",
       "\n",
       "   reordered  ... First Name Last Name  Gender    State   Age date_joined  \\\n",
       "0        0.0  ...      Linda    Nguyen  Female  Alabama  31.0   2/17/2019   \n",
       "1        1.0  ...      Linda    Nguyen  Female  Alabama  31.0   2/17/2019   \n",
       "2        1.0  ...      Linda    Nguyen  Female  Alabama  31.0   2/17/2019   \n",
       "3        1.0  ...      Linda    Nguyen  Female  Alabama  31.0   2/17/2019   \n",
       "4        1.0  ...      Linda    Nguyen  Female  Alabama  31.0   2/17/2019   \n",
       "\n",
       "  n_dependants fam_status   income    no_first_name  \n",
       "0          3.0    married  40423.0  No Missing Name  \n",
       "1          3.0    married  40423.0  No Missing Name  \n",
       "2          3.0    married  40423.0  No Missing Name  \n",
       "3          3.0    married  40423.0  No Missing Name  \n",
       "4          3.0    married  40423.0  No Missing Name  \n",
       "\n",
       "[5 rows x 37 columns]"
      ]
     },
     "execution_count": 66,
     "metadata": {},
     "output_type": "execute_result"
    }
   ],
   "source": [
    "#check the data\n",
    "orders_products_all.head()"
   ]
  },
  {
   "cell_type": "code",
   "execution_count": 67,
   "id": "bdcb9bdf",
   "metadata": {},
   "outputs": [
    {
     "data": {
      "text/plain": [
       "(32435070, 37)"
      ]
     },
     "execution_count": 67,
     "metadata": {},
     "output_type": "execute_result"
    }
   ],
   "source": [
    "orders_products_all.shape"
   ]
  },
  {
   "cell_type": "code",
   "execution_count": 68,
   "id": "14a2a760",
   "metadata": {},
   "outputs": [
    {
     "data": {
      "text/html": [
       "<div>\n",
       "<style scoped>\n",
       "    .dataframe tbody tr th:only-of-type {\n",
       "        vertical-align: middle;\n",
       "    }\n",
       "\n",
       "    .dataframe tbody tr th {\n",
       "        vertical-align: top;\n",
       "    }\n",
       "\n",
       "    .dataframe thead th {\n",
       "        text-align: right;\n",
       "    }\n",
       "</style>\n",
       "<table border=\"1\" class=\"dataframe\">\n",
       "  <thead>\n",
       "    <tr style=\"text-align: right;\">\n",
       "      <th></th>\n",
       "      <th>order_id</th>\n",
       "      <th>user_id</th>\n",
       "      <th>order_number</th>\n",
       "      <th>order_day_of_week</th>\n",
       "      <th>order_hour</th>\n",
       "      <th>days_since_prior_order</th>\n",
       "      <th>product_id</th>\n",
       "      <th>add_to_cart_order</th>\n",
       "      <th>reordered</th>\n",
       "      <th>aisle_id</th>\n",
       "      <th>department_id</th>\n",
       "      <th>prices</th>\n",
       "      <th>mean_order</th>\n",
       "      <th>max_order</th>\n",
       "      <th>mean_spending</th>\n",
       "      <th>median_days_since_prior</th>\n",
       "      <th>Age</th>\n",
       "      <th>n_dependants</th>\n",
       "      <th>income</th>\n",
       "    </tr>\n",
       "  </thead>\n",
       "  <tbody>\n",
       "    <tr>\n",
       "      <th>count</th>\n",
       "      <td>3.243506e+07</td>\n",
       "      <td>3.243506e+07</td>\n",
       "      <td>3.243506e+07</td>\n",
       "      <td>3.243506e+07</td>\n",
       "      <td>3.243506e+07</td>\n",
       "      <td>3.035696e+07</td>\n",
       "      <td>3.243507e+07</td>\n",
       "      <td>3.243506e+07</td>\n",
       "      <td>3.243506e+07</td>\n",
       "      <td>3.240487e+07</td>\n",
       "      <td>3.240487e+07</td>\n",
       "      <td>3.240487e+07</td>\n",
       "      <td>3.240487e+07</td>\n",
       "      <td>3.243506e+07</td>\n",
       "      <td>3.243506e+07</td>\n",
       "      <td>3.243506e+07</td>\n",
       "      <td>3.243506e+07</td>\n",
       "      <td>3.243506e+07</td>\n",
       "      <td>3.243506e+07</td>\n",
       "    </tr>\n",
       "    <tr>\n",
       "      <th>mean</th>\n",
       "      <td>1.710748e+06</td>\n",
       "      <td>1.029372e+05</td>\n",
       "      <td>1.714195e+01</td>\n",
       "      <td>2.738815e+00</td>\n",
       "      <td>1.342498e+01</td>\n",
       "      <td>1.110414e+01</td>\n",
       "      <td>2.557635e+04</td>\n",
       "      <td>8.351081e+00</td>\n",
       "      <td>5.896955e-01</td>\n",
       "      <td>7.119612e+01</td>\n",
       "      <td>9.919794e+00</td>\n",
       "      <td>1.198022e+01</td>\n",
       "      <td>1.714231e+01</td>\n",
       "      <td>3.305231e+01</td>\n",
       "      <td>1.197850e+01</td>\n",
       "      <td>1.039779e+01</td>\n",
       "      <td>4.946512e+01</td>\n",
       "      <td>1.501877e+00</td>\n",
       "      <td>9.943550e+04</td>\n",
       "    </tr>\n",
       "    <tr>\n",
       "      <th>std</th>\n",
       "      <td>9.873006e+05</td>\n",
       "      <td>5.946651e+04</td>\n",
       "      <td>1.753496e+01</td>\n",
       "      <td>2.090051e+00</td>\n",
       "      <td>4.246357e+00</td>\n",
       "      <td>8.778941e+00</td>\n",
       "      <td>1.409657e+04</td>\n",
       "      <td>7.126656e+00</td>\n",
       "      <td>4.918889e-01</td>\n",
       "      <td>3.821138e+01</td>\n",
       "      <td>6.281486e+00</td>\n",
       "      <td>4.956554e+02</td>\n",
       "      <td>8.663542e-01</td>\n",
       "      <td>2.515463e+01</td>\n",
       "      <td>8.321715e+01</td>\n",
       "      <td>7.131238e+00</td>\n",
       "      <td>1.848555e+01</td>\n",
       "      <td>1.118869e+00</td>\n",
       "      <td>4.305540e+04</td>\n",
       "    </tr>\n",
       "    <tr>\n",
       "      <th>min</th>\n",
       "      <td>2.000000e+00</td>\n",
       "      <td>1.000000e+00</td>\n",
       "      <td>1.000000e+00</td>\n",
       "      <td>0.000000e+00</td>\n",
       "      <td>0.000000e+00</td>\n",
       "      <td>0.000000e+00</td>\n",
       "      <td>1.000000e+00</td>\n",
       "      <td>1.000000e+00</td>\n",
       "      <td>0.000000e+00</td>\n",
       "      <td>1.000000e+00</td>\n",
       "      <td>1.000000e+00</td>\n",
       "      <td>1.000000e+00</td>\n",
       "      <td>1.521575e+01</td>\n",
       "      <td>3.000000e+00</td>\n",
       "      <td>1.000000e+00</td>\n",
       "      <td>0.000000e+00</td>\n",
       "      <td>1.800000e+01</td>\n",
       "      <td>0.000000e+00</td>\n",
       "      <td>2.590300e+04</td>\n",
       "    </tr>\n",
       "    <tr>\n",
       "      <th>25%</th>\n",
       "      <td>8.559430e+05</td>\n",
       "      <td>5.142000e+04</td>\n",
       "      <td>5.000000e+00</td>\n",
       "      <td>1.000000e+00</td>\n",
       "      <td>1.000000e+01</td>\n",
       "      <td>5.000000e+00</td>\n",
       "      <td>1.353200e+04</td>\n",
       "      <td>3.000000e+00</td>\n",
       "      <td>0.000000e+00</td>\n",
       "      <td>3.100000e+01</td>\n",
       "      <td>4.000000e+00</td>\n",
       "      <td>4.200000e+00</td>\n",
       "      <td>1.658354e+01</td>\n",
       "      <td>1.300000e+01</td>\n",
       "      <td>7.387179e+00</td>\n",
       "      <td>6.000000e+00</td>\n",
       "      <td>3.300000e+01</td>\n",
       "      <td>1.000000e+00</td>\n",
       "      <td>6.700200e+04</td>\n",
       "    </tr>\n",
       "    <tr>\n",
       "      <th>50%</th>\n",
       "      <td>1.711047e+06</td>\n",
       "      <td>1.026110e+05</td>\n",
       "      <td>1.100000e+01</td>\n",
       "      <td>3.000000e+00</td>\n",
       "      <td>1.300000e+01</td>\n",
       "      <td>8.000000e+00</td>\n",
       "      <td>2.525600e+04</td>\n",
       "      <td>6.000000e+00</td>\n",
       "      <td>1.000000e+00</td>\n",
       "      <td>8.300000e+01</td>\n",
       "      <td>9.000000e+00</td>\n",
       "      <td>7.400000e+00</td>\n",
       "      <td>1.722580e+01</td>\n",
       "      <td>2.600000e+01</td>\n",
       "      <td>7.824742e+00</td>\n",
       "      <td>8.000000e+00</td>\n",
       "      <td>4.900000e+01</td>\n",
       "      <td>2.000000e+00</td>\n",
       "      <td>9.661200e+04</td>\n",
       "    </tr>\n",
       "    <tr>\n",
       "      <th>75%</th>\n",
       "      <td>2.565514e+06</td>\n",
       "      <td>1.543910e+05</td>\n",
       "      <td>2.400000e+01</td>\n",
       "      <td>5.000000e+00</td>\n",
       "      <td>1.600000e+01</td>\n",
       "      <td>1.500000e+01</td>\n",
       "      <td>3.793500e+04</td>\n",
       "      <td>1.100000e+01</td>\n",
       "      <td>1.000000e+00</td>\n",
       "      <td>1.070000e+02</td>\n",
       "      <td>1.600000e+01</td>\n",
       "      <td>1.130000e+01</td>\n",
       "      <td>1.781140e+01</td>\n",
       "      <td>4.700000e+01</td>\n",
       "      <td>8.253968e+00</td>\n",
       "      <td>1.300000e+01</td>\n",
       "      <td>6.500000e+01</td>\n",
       "      <td>3.000000e+00</td>\n",
       "      <td>1.279080e+05</td>\n",
       "    </tr>\n",
       "    <tr>\n",
       "      <th>max</th>\n",
       "      <td>3.421083e+06</td>\n",
       "      <td>2.062090e+05</td>\n",
       "      <td>9.900000e+01</td>\n",
       "      <td>6.000000e+00</td>\n",
       "      <td>2.300000e+01</td>\n",
       "      <td>3.000000e+01</td>\n",
       "      <td>4.968800e+04</td>\n",
       "      <td>1.450000e+02</td>\n",
       "      <td>1.000000e+00</td>\n",
       "      <td>1.340000e+02</td>\n",
       "      <td>2.100000e+01</td>\n",
       "      <td>9.999900e+04</td>\n",
       "      <td>2.290238e+01</td>\n",
       "      <td>9.900000e+01</td>\n",
       "      <td>2.500542e+04</td>\n",
       "      <td>3.000000e+01</td>\n",
       "      <td>8.100000e+01</td>\n",
       "      <td>3.000000e+00</td>\n",
       "      <td>5.939010e+05</td>\n",
       "    </tr>\n",
       "  </tbody>\n",
       "</table>\n",
       "</div>"
      ],
      "text/plain": [
       "           order_id       user_id  order_number  order_day_of_week  \\\n",
       "count  3.243506e+07  3.243506e+07  3.243506e+07       3.243506e+07   \n",
       "mean   1.710748e+06  1.029372e+05  1.714195e+01       2.738815e+00   \n",
       "std    9.873006e+05  5.946651e+04  1.753496e+01       2.090051e+00   \n",
       "min    2.000000e+00  1.000000e+00  1.000000e+00       0.000000e+00   \n",
       "25%    8.559430e+05  5.142000e+04  5.000000e+00       1.000000e+00   \n",
       "50%    1.711047e+06  1.026110e+05  1.100000e+01       3.000000e+00   \n",
       "75%    2.565514e+06  1.543910e+05  2.400000e+01       5.000000e+00   \n",
       "max    3.421083e+06  2.062090e+05  9.900000e+01       6.000000e+00   \n",
       "\n",
       "         order_hour  days_since_prior_order    product_id  add_to_cart_order  \\\n",
       "count  3.243506e+07            3.035696e+07  3.243507e+07       3.243506e+07   \n",
       "mean   1.342498e+01            1.110414e+01  2.557635e+04       8.351081e+00   \n",
       "std    4.246357e+00            8.778941e+00  1.409657e+04       7.126656e+00   \n",
       "min    0.000000e+00            0.000000e+00  1.000000e+00       1.000000e+00   \n",
       "25%    1.000000e+01            5.000000e+00  1.353200e+04       3.000000e+00   \n",
       "50%    1.300000e+01            8.000000e+00  2.525600e+04       6.000000e+00   \n",
       "75%    1.600000e+01            1.500000e+01  3.793500e+04       1.100000e+01   \n",
       "max    2.300000e+01            3.000000e+01  4.968800e+04       1.450000e+02   \n",
       "\n",
       "          reordered      aisle_id  department_id        prices    mean_order  \\\n",
       "count  3.243506e+07  3.240487e+07   3.240487e+07  3.240487e+07  3.240487e+07   \n",
       "mean   5.896955e-01  7.119612e+01   9.919794e+00  1.198022e+01  1.714231e+01   \n",
       "std    4.918889e-01  3.821138e+01   6.281486e+00  4.956554e+02  8.663542e-01   \n",
       "min    0.000000e+00  1.000000e+00   1.000000e+00  1.000000e+00  1.521575e+01   \n",
       "25%    0.000000e+00  3.100000e+01   4.000000e+00  4.200000e+00  1.658354e+01   \n",
       "50%    1.000000e+00  8.300000e+01   9.000000e+00  7.400000e+00  1.722580e+01   \n",
       "75%    1.000000e+00  1.070000e+02   1.600000e+01  1.130000e+01  1.781140e+01   \n",
       "max    1.000000e+00  1.340000e+02   2.100000e+01  9.999900e+04  2.290238e+01   \n",
       "\n",
       "          max_order  mean_spending  median_days_since_prior           Age  \\\n",
       "count  3.243506e+07   3.243506e+07             3.243506e+07  3.243506e+07   \n",
       "mean   3.305231e+01   1.197850e+01             1.039779e+01  4.946512e+01   \n",
       "std    2.515463e+01   8.321715e+01             7.131238e+00  1.848555e+01   \n",
       "min    3.000000e+00   1.000000e+00             0.000000e+00  1.800000e+01   \n",
       "25%    1.300000e+01   7.387179e+00             6.000000e+00  3.300000e+01   \n",
       "50%    2.600000e+01   7.824742e+00             8.000000e+00  4.900000e+01   \n",
       "75%    4.700000e+01   8.253968e+00             1.300000e+01  6.500000e+01   \n",
       "max    9.900000e+01   2.500542e+04             3.000000e+01  8.100000e+01   \n",
       "\n",
       "       n_dependants        income  \n",
       "count  3.243506e+07  3.243506e+07  \n",
       "mean   1.501877e+00  9.943550e+04  \n",
       "std    1.118869e+00  4.305540e+04  \n",
       "min    0.000000e+00  2.590300e+04  \n",
       "25%    1.000000e+00  6.700200e+04  \n",
       "50%    2.000000e+00  9.661200e+04  \n",
       "75%    3.000000e+00  1.279080e+05  \n",
       "max    3.000000e+00  5.939010e+05  "
      ]
     },
     "execution_count": 68,
     "metadata": {},
     "output_type": "execute_result"
    }
   ],
   "source": [
    "orders_products_all.describe()"
   ]
  },
  {
   "cell_type": "code",
   "execution_count": 69,
   "id": "e1f28e5a",
   "metadata": {},
   "outputs": [],
   "source": [
    "#export as pickle\n",
    "orders_products_all.to_pickle(os.path.join(path, '02 Data', 'Prepared Data', 'orders_products_all.pkl'))"
   ]
  },
  {
   "cell_type": "code",
   "execution_count": null,
   "id": "98f061b2",
   "metadata": {},
   "outputs": [],
   "source": []
  }
 ],
 "metadata": {
  "kernelspec": {
   "display_name": "Python 3 (ipykernel)",
   "language": "python",
   "name": "python3"
  },
  "language_info": {
   "codemirror_mode": {
    "name": "ipython",
    "version": 3
   },
   "file_extension": ".py",
   "mimetype": "text/x-python",
   "name": "python",
   "nbconvert_exporter": "python",
   "pygments_lexer": "ipython3",
   "version": "3.9.7"
  }
 },
 "nbformat": 4,
 "nbformat_minor": 5
}
