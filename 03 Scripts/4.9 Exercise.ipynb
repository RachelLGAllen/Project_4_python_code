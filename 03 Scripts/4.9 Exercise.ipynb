{
 "cells": [
  {
   "cell_type": "code",
   "execution_count": 20,
   "id": "3faf2b05",
   "metadata": {},
   "outputs": [],
   "source": [
    "#install libraries\n",
    "import pandas as pd\n",
    "import numpy as np\n",
    "import os\n",
    "import matplotlib.pyplot as plt\n",
    "import seaborn as sns\n",
    "import scipy"
   ]
  },
  {
   "cell_type": "code",
   "execution_count": 2,
   "id": "19f00c64",
   "metadata": {},
   "outputs": [],
   "source": [
    "#whoops I spelled .pylpot wrong\n",
    "import matplotlib.pyplot as plt\n"
   ]
  },
  {
   "cell_type": "code",
   "execution_count": 3,
   "id": "f31d7205",
   "metadata": {},
   "outputs": [],
   "source": [
    "#import merged data\n",
    "path = r'/Users/rachelallen/CareerFoundry Achievement 4/08-2022 Instacart Basket Analysis/02 Data'"
   ]
  },
  {
   "cell_type": "code",
   "execution_count": 5,
   "id": "55650c10",
   "metadata": {},
   "outputs": [],
   "source": [
    "ords_prods = pd.read_pickle(os.path.join(path, 'Prepared data', 'orders_products_merged_updated_2.pkl'))"
   ]
  },
  {
   "cell_type": "code",
   "execution_count": 6,
   "id": "1cde0415",
   "metadata": {},
   "outputs": [
    {
     "data": {
      "text/html": [
       "<div>\n",
       "<style scoped>\n",
       "    .dataframe tbody tr th:only-of-type {\n",
       "        vertical-align: middle;\n",
       "    }\n",
       "\n",
       "    .dataframe tbody tr th {\n",
       "        vertical-align: top;\n",
       "    }\n",
       "\n",
       "    .dataframe thead th {\n",
       "        text-align: right;\n",
       "    }\n",
       "</style>\n",
       "<table border=\"1\" class=\"dataframe\">\n",
       "  <thead>\n",
       "    <tr style=\"text-align: right;\">\n",
       "      <th></th>\n",
       "      <th>order_id</th>\n",
       "      <th>user_id</th>\n",
       "      <th>order_number</th>\n",
       "      <th>order_day_of_week</th>\n",
       "      <th>order_hour</th>\n",
       "      <th>days_since_prior_order</th>\n",
       "      <th>flagged</th>\n",
       "      <th>product_id</th>\n",
       "      <th>add_to_cart_order</th>\n",
       "      <th>reordered</th>\n",
       "      <th>...</th>\n",
       "      <th>busiest_day</th>\n",
       "      <th>busiest_days</th>\n",
       "      <th>busiest_period_of_day</th>\n",
       "      <th>mean_order</th>\n",
       "      <th>max_order</th>\n",
       "      <th>loyalty_flag</th>\n",
       "      <th>mean_spending</th>\n",
       "      <th>spending_flag</th>\n",
       "      <th>median_days_since_prior</th>\n",
       "      <th>frequency_flag</th>\n",
       "    </tr>\n",
       "  </thead>\n",
       "  <tbody>\n",
       "    <tr>\n",
       "      <th>0</th>\n",
       "      <td>2539329.0</td>\n",
       "      <td>1.0</td>\n",
       "      <td>1.0</td>\n",
       "      <td>2.0</td>\n",
       "      <td>8.0</td>\n",
       "      <td>NaN</td>\n",
       "      <td>No Previous Order</td>\n",
       "      <td>196</td>\n",
       "      <td>1.0</td>\n",
       "      <td>0.0</td>\n",
       "      <td>...</td>\n",
       "      <td>Regularly busy</td>\n",
       "      <td>Regularly busy</td>\n",
       "      <td>Average orders</td>\n",
       "      <td>17.225802</td>\n",
       "      <td>10.0</td>\n",
       "      <td>New customer</td>\n",
       "      <td>6.367797</td>\n",
       "      <td>Low spender</td>\n",
       "      <td>20.5</td>\n",
       "      <td>Non-frequent customer</td>\n",
       "    </tr>\n",
       "    <tr>\n",
       "      <th>1</th>\n",
       "      <td>2398795.0</td>\n",
       "      <td>1.0</td>\n",
       "      <td>2.0</td>\n",
       "      <td>3.0</td>\n",
       "      <td>7.0</td>\n",
       "      <td>15.0</td>\n",
       "      <td>Previous Order</td>\n",
       "      <td>196</td>\n",
       "      <td>1.0</td>\n",
       "      <td>1.0</td>\n",
       "      <td>...</td>\n",
       "      <td>Regularly busy</td>\n",
       "      <td>Least busy days</td>\n",
       "      <td>Average orders</td>\n",
       "      <td>17.225802</td>\n",
       "      <td>10.0</td>\n",
       "      <td>New customer</td>\n",
       "      <td>6.367797</td>\n",
       "      <td>Low spender</td>\n",
       "      <td>20.5</td>\n",
       "      <td>Non-frequent customer</td>\n",
       "    </tr>\n",
       "    <tr>\n",
       "      <th>2</th>\n",
       "      <td>473747.0</td>\n",
       "      <td>1.0</td>\n",
       "      <td>3.0</td>\n",
       "      <td>3.0</td>\n",
       "      <td>12.0</td>\n",
       "      <td>21.0</td>\n",
       "      <td>Previous Order</td>\n",
       "      <td>196</td>\n",
       "      <td>1.0</td>\n",
       "      <td>1.0</td>\n",
       "      <td>...</td>\n",
       "      <td>Regularly busy</td>\n",
       "      <td>Least busy days</td>\n",
       "      <td>Average orders</td>\n",
       "      <td>17.225802</td>\n",
       "      <td>10.0</td>\n",
       "      <td>New customer</td>\n",
       "      <td>6.367797</td>\n",
       "      <td>Low spender</td>\n",
       "      <td>20.5</td>\n",
       "      <td>Non-frequent customer</td>\n",
       "    </tr>\n",
       "    <tr>\n",
       "      <th>3</th>\n",
       "      <td>2254736.0</td>\n",
       "      <td>1.0</td>\n",
       "      <td>4.0</td>\n",
       "      <td>4.0</td>\n",
       "      <td>7.0</td>\n",
       "      <td>29.0</td>\n",
       "      <td>Previous Order</td>\n",
       "      <td>196</td>\n",
       "      <td>1.0</td>\n",
       "      <td>1.0</td>\n",
       "      <td>...</td>\n",
       "      <td>Least busy</td>\n",
       "      <td>Least busy days</td>\n",
       "      <td>Average orders</td>\n",
       "      <td>17.225802</td>\n",
       "      <td>10.0</td>\n",
       "      <td>New customer</td>\n",
       "      <td>6.367797</td>\n",
       "      <td>Low spender</td>\n",
       "      <td>20.5</td>\n",
       "      <td>Non-frequent customer</td>\n",
       "    </tr>\n",
       "    <tr>\n",
       "      <th>4</th>\n",
       "      <td>431534.0</td>\n",
       "      <td>1.0</td>\n",
       "      <td>5.0</td>\n",
       "      <td>4.0</td>\n",
       "      <td>15.0</td>\n",
       "      <td>28.0</td>\n",
       "      <td>Previous Order</td>\n",
       "      <td>196</td>\n",
       "      <td>1.0</td>\n",
       "      <td>1.0</td>\n",
       "      <td>...</td>\n",
       "      <td>Least busy</td>\n",
       "      <td>Least busy days</td>\n",
       "      <td>Average orders</td>\n",
       "      <td>17.225802</td>\n",
       "      <td>10.0</td>\n",
       "      <td>New customer</td>\n",
       "      <td>6.367797</td>\n",
       "      <td>Low spender</td>\n",
       "      <td>20.5</td>\n",
       "      <td>Non-frequent customer</td>\n",
       "    </tr>\n",
       "  </tbody>\n",
       "</table>\n",
       "<p>5 rows × 27 columns</p>\n",
       "</div>"
      ],
      "text/plain": [
       "    order_id  user_id  order_number  order_day_of_week  order_hour  \\\n",
       "0  2539329.0      1.0           1.0                2.0         8.0   \n",
       "1  2398795.0      1.0           2.0                3.0         7.0   \n",
       "2   473747.0      1.0           3.0                3.0        12.0   \n",
       "3  2254736.0      1.0           4.0                4.0         7.0   \n",
       "4   431534.0      1.0           5.0                4.0        15.0   \n",
       "\n",
       "   days_since_prior_order            flagged  product_id  add_to_cart_order  \\\n",
       "0                     NaN  No Previous Order         196                1.0   \n",
       "1                    15.0     Previous Order         196                1.0   \n",
       "2                    21.0     Previous Order         196                1.0   \n",
       "3                    29.0     Previous Order         196                1.0   \n",
       "4                    28.0     Previous Order         196                1.0   \n",
       "\n",
       "   reordered  ...     busiest_day     busiest_days  busiest_period_of_day  \\\n",
       "0        0.0  ...  Regularly busy   Regularly busy         Average orders   \n",
       "1        1.0  ...  Regularly busy  Least busy days         Average orders   \n",
       "2        1.0  ...  Regularly busy  Least busy days         Average orders   \n",
       "3        1.0  ...      Least busy  Least busy days         Average orders   \n",
       "4        1.0  ...      Least busy  Least busy days         Average orders   \n",
       "\n",
       "   mean_order  max_order  loyalty_flag mean_spending spending_flag  \\\n",
       "0   17.225802       10.0  New customer      6.367797   Low spender   \n",
       "1   17.225802       10.0  New customer      6.367797   Low spender   \n",
       "2   17.225802       10.0  New customer      6.367797   Low spender   \n",
       "3   17.225802       10.0  New customer      6.367797   Low spender   \n",
       "4   17.225802       10.0  New customer      6.367797   Low spender   \n",
       "\n",
       "  median_days_since_prior         frequency_flag  \n",
       "0                    20.5  Non-frequent customer  \n",
       "1                    20.5  Non-frequent customer  \n",
       "2                    20.5  Non-frequent customer  \n",
       "3                    20.5  Non-frequent customer  \n",
       "4                    20.5  Non-frequent customer  \n",
       "\n",
       "[5 rows x 27 columns]"
      ]
     },
     "execution_count": 6,
     "metadata": {},
     "output_type": "execute_result"
    }
   ],
   "source": [
    "ords_prods.head()"
   ]
  },
  {
   "cell_type": "code",
   "execution_count": 7,
   "id": "186e7e47",
   "metadata": {},
   "outputs": [
    {
     "data": {
      "text/plain": [
       "<AxesSubplot:>"
      ]
     },
     "execution_count": 7,
     "metadata": {},
     "output_type": "execute_result"
    },
    {
     "data": {
      "image/png": "[encoded data removed]",
      "text/plain": [
       "<Figure size 432x288 with 1 Axes>"
      ]
     },
     "metadata": {
      "needs_background": "light"
     },
     "output_type": "display_data"
    }
   ],
   "source": [
    "ords_prods['order_day_of_week'].value_counts().plot.bar()"
   ]
  },
  {
   "cell_type": "code",
   "execution_count": 9,
   "id": "5d291508",
   "metadata": {},
   "outputs": [
    {
     "data": {
      "image/png": "[encoded data removed]",
      "text/plain": [
       "<Figure size 432x288 with 1 Axes>"
      ]
     },
     "metadata": {
      "needs_background": "light"
     },
     "output_type": "display_data"
    }
   ],
   "source": [
    "bar = ords_prods['order_day_of_week'].value_counts().sort_index().plot.bar()"
   ]
  },
  {
   "cell_type": "code",
   "execution_count": 10,
   "id": "34ca265e",
   "metadata": {},
   "outputs": [
    {
     "data": {
      "text/plain": [
       "0.0    6209808\n",
       "1.0    5665951\n",
       "6.0    4500391\n",
       "2.0    4217868\n",
       "5.0    4209603\n",
       "3.0    3844175\n",
       "4.0    3787263\n",
       "Name: order_day_of_week, dtype: int64"
      ]
     },
     "execution_count": 10,
     "metadata": {},
     "output_type": "execute_result"
    }
   ],
   "source": [
    "#you can also sort the frequencies\n",
    "ords_prods['order_day_of_week'].value_counts()"
   ]
  },
  {
   "cell_type": "code",
   "execution_count": 11,
   "id": "fd16d866",
   "metadata": {},
   "outputs": [
    {
     "data": {
      "text/plain": [
       "0.0    6209808\n",
       "1.0    5665951\n",
       "2.0    4217868\n",
       "3.0    3844175\n",
       "4.0    3787263\n",
       "5.0    4209603\n",
       "6.0    4500391\n",
       "Name: order_day_of_week, dtype: int64"
      ]
     },
     "execution_count": 11,
     "metadata": {},
     "output_type": "execute_result"
    }
   ],
   "source": [
    "ords_prods['order_day_of_week'].value_counts().sort_index()"
   ]
  },
  {
   "cell_type": "code",
   "execution_count": 12,
   "id": "6273feac",
   "metadata": {},
   "outputs": [
    {
     "data": {
      "text/plain": [
       "<AxesSubplot:>"
      ]
     },
     "execution_count": 12,
     "metadata": {},
     "output_type": "execute_result"
    },
    {
     "data": {
      "image/png": "[encoded data removed]",
      "text/plain": [
       "<Figure size 432x288 with 1 Axes>"
      ]
     },
     "metadata": {
      "needs_background": "light"
     },
     "output_type": "display_data"
    }
   ],
   "source": [
    "# change color by putting color in .bar()\n",
    "ords_prods['order_day_of_week'].value_counts().plot.bar(color = ['purple', 'red', 'pink', 'orange', 'yellow', 'green', 'blue'])"
   ]
  },
  {
   "cell_type": "code",
   "execution_count": 13,
   "id": "09de757c",
   "metadata": {},
   "outputs": [
    {
     "data": {
      "image/png": "[encoded data removed]",
      "text/plain": [
       "<Figure size 432x288 with 1 Axes>"
      ]
     },
     "metadata": {
      "needs_background": "light"
     },
     "output_type": "display_data"
    }
   ],
   "source": [
    "#save as object\n",
    "bar = ords_prods['order_day_of_week'].value_counts().plot.bar(color =['purple', 'red', 'pink', 'orange', 'yellow', 'green', 'blue'])\n"
   ]
  },
  {
   "cell_type": "code",
   "execution_count": 14,
   "id": "fcdb7ffd",
   "metadata": {},
   "outputs": [
    {
     "data": {
      "image/png": "[encoded data removed]",
      "text/plain": [
       "<Figure size 432x288 with 1 Axes>"
      ]
     },
     "execution_count": 14,
     "metadata": {},
     "output_type": "execute_result"
    }
   ],
   "source": [
    "#call object with .figure\n",
    "bar.figure"
   ]
  },
  {
   "cell_type": "code",
   "execution_count": 16,
   "id": "f30b0645",
   "metadata": {},
   "outputs": [],
   "source": [
    "#export with figure.savefig()\n",
    "path = r'/Users/rachelallen/CareerFoundry Achievement 4/08-2022 Instacart Basket Analysis'\n"
   ]
  },
  {
   "cell_type": "code",
   "execution_count": 17,
   "id": "22e3e55e",
   "metadata": {},
   "outputs": [],
   "source": [
    "bar.figure.savefig(os.path.join(path, '04 Analysis', 'Visualizations', 'bar_orders_dow.png'))"
   ]
  },
  {
   "cell_type": "code",
   "execution_count": 18,
   "id": "423bf13c",
   "metadata": {},
   "outputs": [
    {
     "data": {
      "text/plain": [
       "<AxesSubplot:ylabel='Frequency'>"
      ]
     },
     "execution_count": 18,
     "metadata": {},
     "output_type": "execute_result"
    },
    {
     "data": {
      "image/png": "[encoded data removed]",
      "text/plain": [
       "<Figure size 432x288 with 1 Axes>"
      ]
     },
     "metadata": {
      "needs_background": "light"
     },
     "output_type": "display_data"
    }
   ],
   "source": [
    "#create histogram of prices column\n",
    "ords_prods['prices'].plot.hist(bins = 25)"
   ]
  },
  {
   "cell_type": "code",
   "execution_count": 21,
   "id": "98268ff5",
   "metadata": {},
   "outputs": [
    {
     "data": {
      "text/plain": [
       "<AxesSubplot:xlabel='prices', ylabel='prices'>"
      ]
     },
     "execution_count": 21,
     "metadata": {},
     "output_type": "execute_result"
    },
    {
     "data": {
      "image/png": "[encoded data removed]",
      "text/plain": [
       "<Figure size 432x288 with 1 Axes>"
      ]
     },
     "metadata": {
      "needs_background": "light"
     },
     "output_type": "display_data"
    }
   ],
   "source": [
    "#create scatterplot\n",
    "sns.scatterplot(x = 'prices', y = 'prices',data = ords_prods)"
   ]
  },
  {
   "cell_type": "code",
   "execution_count": 23,
   "id": "133acb1a",
   "metadata": {},
   "outputs": [
    {
     "data": {
      "text/html": [
       "<div>\n",
       "<style scoped>\n",
       "    .dataframe tbody tr th:only-of-type {\n",
       "        vertical-align: middle;\n",
       "    }\n",
       "\n",
       "    .dataframe tbody tr th {\n",
       "        vertical-align: top;\n",
       "    }\n",
       "\n",
       "    .dataframe thead th {\n",
       "        text-align: right;\n",
       "    }\n",
       "</style>\n",
       "<table border=\"1\" class=\"dataframe\">\n",
       "  <thead>\n",
       "    <tr style=\"text-align: right;\">\n",
       "      <th></th>\n",
       "      <th>order_id</th>\n",
       "      <th>user_id</th>\n",
       "      <th>order_number</th>\n",
       "      <th>order_day_of_week</th>\n",
       "      <th>order_hour</th>\n",
       "      <th>days_since_prior_order</th>\n",
       "      <th>flagged</th>\n",
       "      <th>product_id</th>\n",
       "      <th>add_to_cart_order</th>\n",
       "      <th>reordered</th>\n",
       "      <th>...</th>\n",
       "      <th>busiest_day</th>\n",
       "      <th>busiest_days</th>\n",
       "      <th>busiest_period_of_day</th>\n",
       "      <th>mean_order</th>\n",
       "      <th>max_order</th>\n",
       "      <th>loyalty_flag</th>\n",
       "      <th>mean_spending</th>\n",
       "      <th>spending_flag</th>\n",
       "      <th>median_days_since_prior</th>\n",
       "      <th>frequency_flag</th>\n",
       "    </tr>\n",
       "  </thead>\n",
       "  <tbody>\n",
       "    <tr>\n",
       "      <th>10030345</th>\n",
       "      <td>912404.0</td>\n",
       "      <td>17.0</td>\n",
       "      <td>12.0</td>\n",
       "      <td>2.0</td>\n",
       "      <td>14.0</td>\n",
       "      <td>5.0</td>\n",
       "      <td>Previous Order</td>\n",
       "      <td>21553</td>\n",
       "      <td>5.0</td>\n",
       "      <td>0.0</td>\n",
       "      <td>...</td>\n",
       "      <td>Regularly busy</td>\n",
       "      <td>Regularly busy</td>\n",
       "      <td>Average orders</td>\n",
       "      <td>17.665606</td>\n",
       "      <td>40.0</td>\n",
       "      <td>Regular customer</td>\n",
       "      <td>108.648299</td>\n",
       "      <td>High spender</td>\n",
       "      <td>5.0</td>\n",
       "      <td>Frequent customer</td>\n",
       "    </tr>\n",
       "    <tr>\n",
       "      <th>10030346</th>\n",
       "      <td>603376.0</td>\n",
       "      <td>17.0</td>\n",
       "      <td>22.0</td>\n",
       "      <td>6.0</td>\n",
       "      <td>16.0</td>\n",
       "      <td>4.0</td>\n",
       "      <td>Previous Order</td>\n",
       "      <td>21553</td>\n",
       "      <td>3.0</td>\n",
       "      <td>1.0</td>\n",
       "      <td>...</td>\n",
       "      <td>Regularly busy</td>\n",
       "      <td>Regularly busy</td>\n",
       "      <td>Average orders</td>\n",
       "      <td>17.665606</td>\n",
       "      <td>40.0</td>\n",
       "      <td>Regular customer</td>\n",
       "      <td>108.648299</td>\n",
       "      <td>High spender</td>\n",
       "      <td>5.0</td>\n",
       "      <td>Frequent customer</td>\n",
       "    </tr>\n",
       "    <tr>\n",
       "      <th>10030347</th>\n",
       "      <td>3264360.0</td>\n",
       "      <td>135.0</td>\n",
       "      <td>2.0</td>\n",
       "      <td>2.0</td>\n",
       "      <td>21.0</td>\n",
       "      <td>13.0</td>\n",
       "      <td>Previous Order</td>\n",
       "      <td>21553</td>\n",
       "      <td>6.0</td>\n",
       "      <td>0.0</td>\n",
       "      <td>...</td>\n",
       "      <td>Regularly busy</td>\n",
       "      <td>Regularly busy</td>\n",
       "      <td>Average orders</td>\n",
       "      <td>17.665606</td>\n",
       "      <td>4.0</td>\n",
       "      <td>New customer</td>\n",
       "      <td>1154.792308</td>\n",
       "      <td>High spender</td>\n",
       "      <td>12.0</td>\n",
       "      <td>Regular customer</td>\n",
       "    </tr>\n",
       "    <tr>\n",
       "      <th>10030348</th>\n",
       "      <td>892534.0</td>\n",
       "      <td>135.0</td>\n",
       "      <td>3.0</td>\n",
       "      <td>0.0</td>\n",
       "      <td>8.0</td>\n",
       "      <td>12.0</td>\n",
       "      <td>Previous Order</td>\n",
       "      <td>21553</td>\n",
       "      <td>3.0</td>\n",
       "      <td>1.0</td>\n",
       "      <td>...</td>\n",
       "      <td>Busiest day</td>\n",
       "      <td>Busiest days</td>\n",
       "      <td>Average orders</td>\n",
       "      <td>17.665606</td>\n",
       "      <td>4.0</td>\n",
       "      <td>New customer</td>\n",
       "      <td>1154.792308</td>\n",
       "      <td>High spender</td>\n",
       "      <td>12.0</td>\n",
       "      <td>Regular customer</td>\n",
       "    </tr>\n",
       "    <tr>\n",
       "      <th>10030349</th>\n",
       "      <td>229704.0</td>\n",
       "      <td>342.0</td>\n",
       "      <td>8.0</td>\n",
       "      <td>1.0</td>\n",
       "      <td>19.0</td>\n",
       "      <td>30.0</td>\n",
       "      <td>Previous Order</td>\n",
       "      <td>21553</td>\n",
       "      <td>9.0</td>\n",
       "      <td>0.0</td>\n",
       "      <td>...</td>\n",
       "      <td>Regularly busy</td>\n",
       "      <td>Busiest days</td>\n",
       "      <td>Average orders</td>\n",
       "      <td>17.665606</td>\n",
       "      <td>16.0</td>\n",
       "      <td>Regular customer</td>\n",
       "      <td>114.426619</td>\n",
       "      <td>High spender</td>\n",
       "      <td>23.0</td>\n",
       "      <td>Non-frequent customer</td>\n",
       "    </tr>\n",
       "    <tr>\n",
       "      <th>...</th>\n",
       "      <td>...</td>\n",
       "      <td>...</td>\n",
       "      <td>...</td>\n",
       "      <td>...</td>\n",
       "      <td>...</td>\n",
       "      <td>...</td>\n",
       "      <td>...</td>\n",
       "      <td>...</td>\n",
       "      <td>...</td>\n",
       "      <td>...</td>\n",
       "      <td>...</td>\n",
       "      <td>...</td>\n",
       "      <td>...</td>\n",
       "      <td>...</td>\n",
       "      <td>...</td>\n",
       "      <td>...</td>\n",
       "      <td>...</td>\n",
       "      <td>...</td>\n",
       "      <td>...</td>\n",
       "      <td>...</td>\n",
       "      <td>...</td>\n",
       "    </tr>\n",
       "    <tr>\n",
       "      <th>29194168</th>\n",
       "      <td>2249946.0</td>\n",
       "      <td>204099.0</td>\n",
       "      <td>29.0</td>\n",
       "      <td>0.0</td>\n",
       "      <td>8.0</td>\n",
       "      <td>4.0</td>\n",
       "      <td>Previous Order</td>\n",
       "      <td>33664</td>\n",
       "      <td>1.0</td>\n",
       "      <td>0.0</td>\n",
       "      <td>...</td>\n",
       "      <td>Busiest day</td>\n",
       "      <td>Busiest days</td>\n",
       "      <td>Average orders</td>\n",
       "      <td>17.665606</td>\n",
       "      <td>39.0</td>\n",
       "      <td>Regular customer</td>\n",
       "      <td>1106.743956</td>\n",
       "      <td>High spender</td>\n",
       "      <td>4.0</td>\n",
       "      <td>Frequent customer</td>\n",
       "    </tr>\n",
       "    <tr>\n",
       "      <th>29194169</th>\n",
       "      <td>2363282.0</td>\n",
       "      <td>204099.0</td>\n",
       "      <td>31.0</td>\n",
       "      <td>0.0</td>\n",
       "      <td>9.0</td>\n",
       "      <td>2.0</td>\n",
       "      <td>Previous Order</td>\n",
       "      <td>33664</td>\n",
       "      <td>1.0</td>\n",
       "      <td>1.0</td>\n",
       "      <td>...</td>\n",
       "      <td>Busiest day</td>\n",
       "      <td>Busiest days</td>\n",
       "      <td>Average orders</td>\n",
       "      <td>17.665606</td>\n",
       "      <td>39.0</td>\n",
       "      <td>Regular customer</td>\n",
       "      <td>1106.743956</td>\n",
       "      <td>High spender</td>\n",
       "      <td>4.0</td>\n",
       "      <td>Frequent customer</td>\n",
       "    </tr>\n",
       "    <tr>\n",
       "      <th>29194170</th>\n",
       "      <td>3181945.0</td>\n",
       "      <td>204395.0</td>\n",
       "      <td>13.0</td>\n",
       "      <td>3.0</td>\n",
       "      <td>15.0</td>\n",
       "      <td>8.0</td>\n",
       "      <td>Previous Order</td>\n",
       "      <td>33664</td>\n",
       "      <td>25.0</td>\n",
       "      <td>0.0</td>\n",
       "      <td>...</td>\n",
       "      <td>Regularly busy</td>\n",
       "      <td>Least busy days</td>\n",
       "      <td>Average orders</td>\n",
       "      <td>17.665606</td>\n",
       "      <td>15.0</td>\n",
       "      <td>Regular customer</td>\n",
       "      <td>451.153540</td>\n",
       "      <td>High spender</td>\n",
       "      <td>5.0</td>\n",
       "      <td>Frequent customer</td>\n",
       "    </tr>\n",
       "    <tr>\n",
       "      <th>29194171</th>\n",
       "      <td>2486215.0</td>\n",
       "      <td>205227.0</td>\n",
       "      <td>7.0</td>\n",
       "      <td>3.0</td>\n",
       "      <td>20.0</td>\n",
       "      <td>4.0</td>\n",
       "      <td>Previous Order</td>\n",
       "      <td>33664</td>\n",
       "      <td>8.0</td>\n",
       "      <td>0.0</td>\n",
       "      <td>...</td>\n",
       "      <td>Regularly busy</td>\n",
       "      <td>Least busy days</td>\n",
       "      <td>Average orders</td>\n",
       "      <td>17.665606</td>\n",
       "      <td>12.0</td>\n",
       "      <td>Regular customer</td>\n",
       "      <td>1178.381871</td>\n",
       "      <td>High spender</td>\n",
       "      <td>12.0</td>\n",
       "      <td>Regular customer</td>\n",
       "    </tr>\n",
       "    <tr>\n",
       "      <th>29194172</th>\n",
       "      <td>2232716.0</td>\n",
       "      <td>205227.0</td>\n",
       "      <td>10.0</td>\n",
       "      <td>0.0</td>\n",
       "      <td>11.0</td>\n",
       "      <td>4.0</td>\n",
       "      <td>Previous Order</td>\n",
       "      <td>33664</td>\n",
       "      <td>23.0</td>\n",
       "      <td>1.0</td>\n",
       "      <td>...</td>\n",
       "      <td>Busiest day</td>\n",
       "      <td>Busiest days</td>\n",
       "      <td>Most orders</td>\n",
       "      <td>17.665606</td>\n",
       "      <td>12.0</td>\n",
       "      <td>Regular customer</td>\n",
       "      <td>1178.381871</td>\n",
       "      <td>High spender</td>\n",
       "      <td>12.0</td>\n",
       "      <td>Regular customer</td>\n",
       "    </tr>\n",
       "  </tbody>\n",
       "</table>\n",
       "<p>5127 rows × 27 columns</p>\n",
       "</div>"
      ],
      "text/plain": [
       "           order_id   user_id  order_number  order_day_of_week  order_hour  \\\n",
       "10030345   912404.0      17.0          12.0                2.0        14.0   \n",
       "10030346   603376.0      17.0          22.0                6.0        16.0   \n",
       "10030347  3264360.0     135.0           2.0                2.0        21.0   \n",
       "10030348   892534.0     135.0           3.0                0.0         8.0   \n",
       "10030349   229704.0     342.0           8.0                1.0        19.0   \n",
       "...             ...       ...           ...                ...         ...   \n",
       "29194168  2249946.0  204099.0          29.0                0.0         8.0   \n",
       "29194169  2363282.0  204099.0          31.0                0.0         9.0   \n",
       "29194170  3181945.0  204395.0          13.0                3.0        15.0   \n",
       "29194171  2486215.0  205227.0           7.0                3.0        20.0   \n",
       "29194172  2232716.0  205227.0          10.0                0.0        11.0   \n",
       "\n",
       "          days_since_prior_order         flagged  product_id  \\\n",
       "10030345                     5.0  Previous Order       21553   \n",
       "10030346                     4.0  Previous Order       21553   \n",
       "10030347                    13.0  Previous Order       21553   \n",
       "10030348                    12.0  Previous Order       21553   \n",
       "10030349                    30.0  Previous Order       21553   \n",
       "...                          ...             ...         ...   \n",
       "29194168                     4.0  Previous Order       33664   \n",
       "29194169                     2.0  Previous Order       33664   \n",
       "29194170                     8.0  Previous Order       33664   \n",
       "29194171                     4.0  Previous Order       33664   \n",
       "29194172                     4.0  Previous Order       33664   \n",
       "\n",
       "          add_to_cart_order  reordered  ...     busiest_day     busiest_days  \\\n",
       "10030345                5.0        0.0  ...  Regularly busy   Regularly busy   \n",
       "10030346                3.0        1.0  ...  Regularly busy   Regularly busy   \n",
       "10030347                6.0        0.0  ...  Regularly busy   Regularly busy   \n",
       "10030348                3.0        1.0  ...     Busiest day     Busiest days   \n",
       "10030349                9.0        0.0  ...  Regularly busy     Busiest days   \n",
       "...                     ...        ...  ...             ...              ...   \n",
       "29194168                1.0        0.0  ...     Busiest day     Busiest days   \n",
       "29194169                1.0        1.0  ...     Busiest day     Busiest days   \n",
       "29194170               25.0        0.0  ...  Regularly busy  Least busy days   \n",
       "29194171                8.0        0.0  ...  Regularly busy  Least busy days   \n",
       "29194172               23.0        1.0  ...     Busiest day     Busiest days   \n",
       "\n",
       "          busiest_period_of_day  mean_order  max_order      loyalty_flag  \\\n",
       "10030345         Average orders   17.665606       40.0  Regular customer   \n",
       "10030346         Average orders   17.665606       40.0  Regular customer   \n",
       "10030347         Average orders   17.665606        4.0      New customer   \n",
       "10030348         Average orders   17.665606        4.0      New customer   \n",
       "10030349         Average orders   17.665606       16.0  Regular customer   \n",
       "...                         ...         ...        ...               ...   \n",
       "29194168         Average orders   17.665606       39.0  Regular customer   \n",
       "29194169         Average orders   17.665606       39.0  Regular customer   \n",
       "29194170         Average orders   17.665606       15.0  Regular customer   \n",
       "29194171         Average orders   17.665606       12.0  Regular customer   \n",
       "29194172            Most orders   17.665606       12.0  Regular customer   \n",
       "\n",
       "         mean_spending spending_flag median_days_since_prior  \\\n",
       "10030345    108.648299  High spender                     5.0   \n",
       "10030346    108.648299  High spender                     5.0   \n",
       "10030347   1154.792308  High spender                    12.0   \n",
       "10030348   1154.792308  High spender                    12.0   \n",
       "10030349    114.426619  High spender                    23.0   \n",
       "...                ...           ...                     ...   \n",
       "29194168   1106.743956  High spender                     4.0   \n",
       "29194169   1106.743956  High spender                     4.0   \n",
       "29194170    451.153540  High spender                     5.0   \n",
       "29194171   1178.381871  High spender                    12.0   \n",
       "29194172   1178.381871  High spender                    12.0   \n",
       "\n",
       "                 frequency_flag  \n",
       "10030345      Frequent customer  \n",
       "10030346      Frequent customer  \n",
       "10030347       Regular customer  \n",
       "10030348       Regular customer  \n",
       "10030349  Non-frequent customer  \n",
       "...                         ...  \n",
       "29194168      Frequent customer  \n",
       "29194169      Frequent customer  \n",
       "29194170      Frequent customer  \n",
       "29194171       Regular customer  \n",
       "29194172       Regular customer  \n",
       "\n",
       "[5127 rows x 27 columns]"
      ]
     },
     "execution_count": 23,
     "metadata": {},
     "output_type": "execute_result"
    }
   ],
   "source": [
    "#find this strange data\n",
    "ords_prods.loc[ords_prods['prices'] > 100]\n"
   ]
  },
  {
   "cell_type": "code",
   "execution_count": 24,
   "id": "4af220d7",
   "metadata": {},
   "outputs": [],
   "source": [
    "#turn very high prices into nan\n",
    "ords_prods.loc[ords_prods['prices'] >100, 'prices'] = np.nan\n"
   ]
  },
  {
   "cell_type": "code",
   "execution_count": 25,
   "id": "1f5f8c75",
   "metadata": {},
   "outputs": [
    {
     "data": {
      "text/plain": [
       "25.0"
      ]
     },
     "execution_count": 25,
     "metadata": {},
     "output_type": "execute_result"
    }
   ],
   "source": [
    "#check if it worked\n",
    "ords_prods['prices'].max()"
   ]
  },
  {
   "cell_type": "code",
   "execution_count": 26,
   "id": "cf72dc27",
   "metadata": {},
   "outputs": [
    {
     "data": {
      "text/plain": [
       "<AxesSubplot:ylabel='Frequency'>"
      ]
     },
     "execution_count": 26,
     "metadata": {},
     "output_type": "execute_result"
    },
    {
     "data": {
      "image/png": "[encoded data removed]",
      "text/plain": [
       "<Figure size 432x288 with 1 Axes>"
      ]
     },
     "metadata": {
      "needs_background": "light"
     },
     "output_type": "display_data"
    }
   ],
   "source": [
    "#redo histogram\n",
    "ords_prods['prices'].plot.hist(bins = 25)"
   ]
  },
  {
   "cell_type": "code",
   "execution_count": 27,
   "id": "73fd86b5",
   "metadata": {},
   "outputs": [
    {
     "data": {
      "text/plain": [
       "<AxesSubplot:ylabel='Frequency'>"
      ]
     },
     "execution_count": 27,
     "metadata": {},
     "output_type": "execute_result"
    },
    {
     "data": {
      "image/png": "[encoded data removed]",
      "text/plain": [
       "<Figure size 432x288 with 1 Axes>"
      ]
     },
     "metadata": {
      "needs_background": "light"
     },
     "output_type": "display_data"
    }
   ],
   "source": [
    "ords_prods['prices'].plot.hist(bins = 70)"
   ]
  },
  {
   "cell_type": "code",
   "execution_count": 28,
   "id": "3a89456d",
   "metadata": {},
   "outputs": [
    {
     "data": {
      "image/png": "[encoded data removed]",
      "text/plain": [
       "<Figure size 432x288 with 1 Axes>"
      ]
     },
     "metadata": {
      "needs_background": "light"
     },
     "output_type": "display_data"
    }
   ],
   "source": [
    "hist = ords_prods['prices'].plot.hist(bins = 70)"
   ]
  },
  {
   "cell_type": "code",
   "execution_count": 29,
   "id": "25303b78",
   "metadata": {},
   "outputs": [],
   "source": [
    "hist.figure.savefig(os.path.join(path, '04 Analysis', 'Visualizations', 'price_histogram.png'))"
   ]
  },
  {
   "cell_type": "code",
   "execution_count": 30,
   "id": "d01a372c",
   "metadata": {},
   "outputs": [],
   "source": [
    "#create a random subset\n",
    "np.random.seed(4)"
   ]
  },
  {
   "cell_type": "code",
   "execution_count": 32,
   "id": "834b9bfc",
   "metadata": {},
   "outputs": [],
   "source": [
    "#create a list holding True/False values to test np.random.rand() <= 0.7\n",
    "dev = np.random.rand(len(ords_prods)) <= 0.7"
   ]
  },
  {
   "cell_type": "code",
   "execution_count": 33,
   "id": "9aabd779",
   "metadata": {},
   "outputs": [
    {
     "data": {
      "text/plain": [
       "array([False,  True, False, ...,  True,  True, False])"
      ]
     },
     "execution_count": 33,
     "metadata": {},
     "output_type": "execute_result"
    }
   ],
   "source": [
    "dev"
   ]
  },
  {
   "cell_type": "code",
   "execution_count": 34,
   "id": "7f9b067f",
   "metadata": {},
   "outputs": [],
   "source": [
    "#store 70% of data in df \"big\"\n",
    "big = ords_prods[dev]"
   ]
  },
  {
   "cell_type": "code",
   "execution_count": 35,
   "id": "007b7d87",
   "metadata": {},
   "outputs": [],
   "source": [
    "#store 30% of data in df \"small\"\n",
    "small = ords_prods[~dev]"
   ]
  },
  {
   "cell_type": "code",
   "execution_count": 36,
   "id": "29a7cc4d",
   "metadata": {},
   "outputs": [
    {
     "data": {
      "text/plain": [
       "32435070"
      ]
     },
     "execution_count": 36,
     "metadata": {},
     "output_type": "execute_result"
    }
   ],
   "source": [
    "#length of original df?\n",
    "len(ords_prods)"
   ]
  },
  {
   "cell_type": "code",
   "execution_count": 37,
   "id": "73827210",
   "metadata": {},
   "outputs": [
    {
     "data": {
      "text/plain": [
       "32435070"
      ]
     },
     "execution_count": 37,
     "metadata": {},
     "output_type": "execute_result"
    }
   ],
   "source": [
    "len(big) + len(small)"
   ]
  },
  {
   "cell_type": "code",
   "execution_count": 38,
   "id": "a3afa808",
   "metadata": {},
   "outputs": [],
   "source": [
    "#only use columns that we need\n",
    "df_2 = small[['order_day_of_week', 'prices']]"
   ]
  },
  {
   "cell_type": "code",
   "execution_count": 39,
   "id": "66aae262",
   "metadata": {},
   "outputs": [
    {
     "data": {
      "image/png": "[encoded data removed]",
      "text/plain": [
       "<Figure size 432x288 with 1 Axes>"
      ]
     },
     "metadata": {
      "needs_background": "light"
     },
     "output_type": "display_data"
    }
   ],
   "source": [
    "line = sns.lineplot(data = df_2, x = 'order_day_of_week', y = 'prices')"
   ]
  },
  {
   "cell_type": "markdown",
   "id": "2cab4c72",
   "metadata": {},
   "source": [
    "Whoa mine looks very diferent than the example one, uh oh\n",
    "\n",
    "Oh, mine looks like the \"big\" data set, that's STRANGE"
   ]
  },
  {
   "cell_type": "code",
   "execution_count": 40,
   "id": "f6275a5a",
   "metadata": {},
   "outputs": [
    {
     "data": {
      "text/html": [
       "<div>\n",
       "<style scoped>\n",
       "    .dataframe tbody tr th:only-of-type {\n",
       "        vertical-align: middle;\n",
       "    }\n",
       "\n",
       "    .dataframe tbody tr th {\n",
       "        vertical-align: top;\n",
       "    }\n",
       "\n",
       "    .dataframe thead th {\n",
       "        text-align: right;\n",
       "    }\n",
       "</style>\n",
       "<table border=\"1\" class=\"dataframe\">\n",
       "  <thead>\n",
       "    <tr style=\"text-align: right;\">\n",
       "      <th></th>\n",
       "      <th>order_day_of_week</th>\n",
       "      <th>prices</th>\n",
       "    </tr>\n",
       "  </thead>\n",
       "  <tbody>\n",
       "    <tr>\n",
       "      <th>0</th>\n",
       "      <td>2.0</td>\n",
       "      <td>9.0</td>\n",
       "    </tr>\n",
       "    <tr>\n",
       "      <th>2</th>\n",
       "      <td>3.0</td>\n",
       "      <td>9.0</td>\n",
       "    </tr>\n",
       "    <tr>\n",
       "      <th>3</th>\n",
       "      <td>4.0</td>\n",
       "      <td>9.0</td>\n",
       "    </tr>\n",
       "    <tr>\n",
       "      <th>6</th>\n",
       "      <td>1.0</td>\n",
       "      <td>9.0</td>\n",
       "    </tr>\n",
       "    <tr>\n",
       "      <th>10</th>\n",
       "      <td>1.0</td>\n",
       "      <td>9.0</td>\n",
       "    </tr>\n",
       "  </tbody>\n",
       "</table>\n",
       "</div>"
      ],
      "text/plain": [
       "    order_day_of_week  prices\n",
       "0                 2.0     9.0\n",
       "2                 3.0     9.0\n",
       "3                 4.0     9.0\n",
       "6                 1.0     9.0\n",
       "10                1.0     9.0"
      ]
     },
     "execution_count": 40,
     "metadata": {},
     "output_type": "execute_result"
    }
   ],
   "source": [
    "df_2.head()"
   ]
  },
  {
   "cell_type": "code",
   "execution_count": 41,
   "id": "0100be06",
   "metadata": {},
   "outputs": [
    {
     "data": {
      "text/plain": [
       "22705106"
      ]
     },
     "execution_count": 41,
     "metadata": {},
     "output_type": "execute_result"
    }
   ],
   "source": [
    "len(big)"
   ]
  },
  {
   "cell_type": "code",
   "execution_count": 42,
   "id": "c3cf295f",
   "metadata": {},
   "outputs": [
    {
     "data": {
      "text/plain": [
       "9729964"
      ]
     },
     "execution_count": 42,
     "metadata": {},
     "output_type": "execute_result"
    }
   ],
   "source": [
    "len(small)"
   ]
  },
  {
   "cell_type": "markdown",
   "id": "26bca1c1",
   "metadata": {},
   "source": [
    "My big and small are flipped! What the heck."
   ]
  },
  {
   "cell_type": "code",
   "execution_count": 43,
   "id": "2cedd75e",
   "metadata": {},
   "outputs": [],
   "source": [
    "#let's see if mine looks right if I use the other half\n",
    "df_3 = big[['order_day_of_week', 'prices']]"
   ]
  },
  {
   "cell_type": "code",
   "execution_count": 44,
   "id": "600733e7",
   "metadata": {},
   "outputs": [
    {
     "data": {
      "image/png": "[encoded data removed]",
      "text/plain": [
       "<Figure size 432x288 with 1 Axes>"
      ]
     },
     "metadata": {
      "needs_background": "light"
     },
     "output_type": "display_data"
    }
   ],
   "source": [
    "line = sns.lineplot(data = df_3, x = 'order_day_of_week', y = 'prices')"
   ]
  },
  {
   "cell_type": "code",
   "execution_count": null,
   "id": "6c660f8b",
   "metadata": {},
   "outputs": [],
   "source": []
  }
 ],
 "metadata": {
  "kernelspec": {
   "display_name": "Python 3 (ipykernel)",
   "language": "python",
   "name": "python3"
  },
  "language_info": {
   "codemirror_mode": {
    "name": "ipython",
    "version": 3
   },
   "file_extension": ".py",
   "mimetype": "text/x-python",
   "name": "python",
   "nbconvert_exporter": "python",
   "pygments_lexer": "ipython3",
   "version": "3.9.7"
  }
 },
 "nbformat": 4,
 "nbformat_minor": 5
}
