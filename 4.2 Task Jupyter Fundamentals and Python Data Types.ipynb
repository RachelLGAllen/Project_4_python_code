{
 "cells": [
  {
   "cell_type": "markdown",
   "id": "b0629249",
   "metadata": {},
   "source": [
    "# 4.2 Task Jupyter Fundamentals and Python Data Types"
   ]
  },
  {
   "cell_type": "markdown",
   "id": "c6331fc5",
   "metadata": {},
   "source": [
    "### This script contains the following points:\n",
    "\n",
    "#### 1. import libraries\n",
    "#### 2. practice with python data types\n",
    "\n"
   ]
  },
  {
   "cell_type": "code",
   "execution_count": 1,
   "id": "b85d31b8",
   "metadata": {},
   "outputs": [],
   "source": [
    "#import libraries\n",
    "import pandas as pd\n",
    "import numpy as np\n",
    "import os"
   ]
  },
  {
   "cell_type": "markdown",
   "id": "966f2329",
   "metadata": {},
   "source": [
    "## python data types"
   ]
  },
  {
   "cell_type": "code",
   "execution_count": 13,
   "id": "46abc173",
   "metadata": {},
   "outputs": [],
   "source": [
    "# question 7 Code 3 different ways of reaching a result of 100 by adding or subtracting numeric variables."
   ]
  },
  {
   "cell_type": "code",
   "execution_count": 2,
   "id": "02307b6f",
   "metadata": {},
   "outputs": [],
   "source": [
    "x = 25"
   ]
  },
  {
   "cell_type": "code",
   "execution_count": 3,
   "id": "009f67e5",
   "metadata": {},
   "outputs": [],
   "source": [
    "y = 50"
   ]
  },
  {
   "cell_type": "code",
   "execution_count": 4,
   "id": "9fc57054",
   "metadata": {},
   "outputs": [
    {
     "data": {
      "text/plain": [
       "100"
      ]
     },
     "execution_count": 4,
     "metadata": {},
     "output_type": "execute_result"
    }
   ],
   "source": [
    "x * 4"
   ]
  },
  {
   "cell_type": "code",
   "execution_count": 5,
   "id": "b90d97bc",
   "metadata": {},
   "outputs": [
    {
     "data": {
      "text/plain": [
       "100"
      ]
     },
     "execution_count": 5,
     "metadata": {},
     "output_type": "execute_result"
    }
   ],
   "source": [
    "y + y"
   ]
  },
  {
   "cell_type": "code",
   "execution_count": 8,
   "id": "b371e406",
   "metadata": {},
   "outputs": [
    {
     "data": {
      "text/plain": [
       "100"
      ]
     },
     "execution_count": 8,
     "metadata": {},
     "output_type": "execute_result"
    }
   ],
   "source": [
    "(2*x) + y"
   ]
  },
  {
   "cell_type": "code",
   "execution_count": 14,
   "id": "ebfd3ecb",
   "metadata": {},
   "outputs": [],
   "source": [
    "#Question 8 Code 2 floating-point variables and divide them by each other.\n"
   ]
  },
  {
   "cell_type": "code",
   "execution_count": 10,
   "id": "f8c91edb",
   "metadata": {},
   "outputs": [],
   "source": [
    "z = 10.85"
   ]
  },
  {
   "cell_type": "code",
   "execution_count": 11,
   "id": "463bd897",
   "metadata": {},
   "outputs": [],
   "source": [
    "a = 2.62"
   ]
  },
  {
   "cell_type": "code",
   "execution_count": 12,
   "id": "ff0464a2",
   "metadata": {},
   "outputs": [
    {
     "data": {
      "text/plain": [
       "4.141221374045801"
      ]
     },
     "execution_count": 12,
     "metadata": {},
     "output_type": "execute_result"
    }
   ],
   "source": [
    "z / a "
   ]
  },
  {
   "cell_type": "code",
   "execution_count": 15,
   "id": "610b21ed",
   "metadata": {},
   "outputs": [],
   "source": [
    "#Question 9 Construct a short word made of separate strings"
   ]
  },
  {
   "cell_type": "code",
   "execution_count": 16,
   "id": "fe73a409",
   "metadata": {},
   "outputs": [],
   "source": [
    "b = 'ca'"
   ]
  },
  {
   "cell_type": "code",
   "execution_count": 17,
   "id": "fca2d87a",
   "metadata": {},
   "outputs": [],
   "source": [
    "c = 'ts'"
   ]
  },
  {
   "cell_type": "code",
   "execution_count": 18,
   "id": "b2c0e4da",
   "metadata": {},
   "outputs": [
    {
     "data": {
      "text/plain": [
       "'cats'"
      ]
     },
     "execution_count": 18,
     "metadata": {},
     "output_type": "execute_result"
    }
   ],
   "source": [
    "b + c"
   ]
  },
  {
   "cell_type": "code",
   "execution_count": 19,
   "id": "5c344bc4",
   "metadata": {},
   "outputs": [],
   "source": [
    "# question 10 Construct 2 short sentences made of separate strings"
   ]
  },
  {
   "cell_type": "code",
   "execution_count": 20,
   "id": "00c9b937",
   "metadata": {},
   "outputs": [],
   "source": [
    "d = 'Good morning.'"
   ]
  },
  {
   "cell_type": "code",
   "execution_count": 24,
   "id": "a0a8457f",
   "metadata": {},
   "outputs": [],
   "source": [
    "e = ' How are you today?'"
   ]
  },
  {
   "cell_type": "code",
   "execution_count": 25,
   "id": "008a3e0d",
   "metadata": {},
   "outputs": [
    {
     "data": {
      "text/plain": [
       "'Good morning. How are you today?'"
      ]
     },
     "execution_count": 25,
     "metadata": {},
     "output_type": "execute_result"
    }
   ],
   "source": [
    "d + e"
   ]
  },
  {
   "cell_type": "code",
   "execution_count": 26,
   "id": "9b5fd202",
   "metadata": {},
   "outputs": [],
   "source": [
    "# bonus task"
   ]
  },
  {
   "cell_type": "code",
   "execution_count": 27,
   "id": "c602723c",
   "metadata": {},
   "outputs": [
    {
     "data": {
      "text/plain": [
       "'catscatscatscatscatscatscatscatscatscatscatscatscatscatscatscatscatscatscatscatscatscatscatscatscatscatscatscatscatscatscatscatscatscatscatscatscatscatscatscatscatscatscatscatscatscatscatscatscatscatscatscatscatscatscatscatscatscatscatscatscatscatscatscatscatscatscatscatscatscatscatscatscatscatscatscatscatscatscatscatscatscatscatscatscatscatscatscatscatscatscatscatscatscatscatscatscatscatscatscats'"
      ]
     },
     "execution_count": 27,
     "metadata": {},
     "output_type": "execute_result"
    }
   ],
   "source": [
    "(b + c) * 100"
   ]
  },
  {
   "cell_type": "code",
   "execution_count": null,
   "id": "d0fbc58b",
   "metadata": {},
   "outputs": [],
   "source": []
  }
 ],
 "metadata": {
  "kernelspec": {
   "display_name": "Python 3 (ipykernel)",
   "language": "python",
   "name": "python3"
  },
  "language_info": {
   "codemirror_mode": {
    "name": "ipython",
    "version": 3
   },
   "file_extension": ".py",
   "mimetype": "text/x-python",
   "name": "python",
   "nbconvert_exporter": "python",
   "pygments_lexer": "ipython3",
   "version": "3.9.7"
  }
 },
 "nbformat": 4,
 "nbformat_minor": 5
}
